{
 "cells": [
  {
   "cell_type": "markdown",
   "id": "6e5d9d3b-a7cc-4896-8c47-e93376a7b8cd",
   "metadata": {},
   "source": [
    "# To affect the diversity of documents retrieved from ChromaDB in LangChain:\n",
    "\n",
    "Use MMR to balance relevance and diversity.\n",
    "Increase the number of documents retrieved (k).\n",
    "Experiment with different embedding models.\n",
    "Apply metadata filters to ensure varied results.\n",
    "Consider hybrid search to combine vector and keyword search.\n",
    "Use query augmentation to generate diverse queries."
   ]
  },
  {
   "cell_type": "code",
   "execution_count": null,
   "id": "a7ab5186-a055-4637-9290-fc54055a0e32",
   "metadata": {},
   "outputs": [],
   "source": [
    "# Use MMR to balance relevance and diversity.\n",
    "retriever = chromadb.as_retriever(search_kwargs={\"k\": 10, \"max_marginal_relevance\": True, \"lambda_mult\": 0.5})\n",
    "\n",
    "\"\"\"\n",
    "Maximal Marginal Relevance (MMR) is a common technique to balance relevance and diversity in retrieval. Instead of only selecting the most similar documents, it selects documents that are relevant to the query while minimizing redundancy among the results.\n",
    "\n",
    "You can also control the diversity vs. relevance trade-off by adjusting a lambda parameter in MMR, where lambda = 0 maximizes diversity, and lambda = 1 maximizes relevance.\n",
    "\"\"\""
   ]
  },
  {
   "cell_type": "code",
   "execution_count": null,
   "id": "9970f219-cd9f-4018-9c4f-d05934ce3e88",
   "metadata": {},
   "outputs": [],
   "source": [
    "# Increase the number of documents retrieved (k).\n",
    "retriever = chromadb.as_retriever(search_kwargs={\"k\": 10})  # Return 10 results instead of default (often 4 or 5)"
   ]
  },
  {
   "cell_type": "code",
   "execution_count": null,
   "id": "97bf389c-82ff-47da-bddd-4499e851c3e4",
   "metadata": {},
   "outputs": [],
   "source": [
    "# Experiment with different embedding models."
   ]
  },
  {
   "cell_type": "code",
   "execution_count": null,
   "id": "d98d474a-8973-4dec-8db9-237b9bf8e7ee",
   "metadata": {},
   "outputs": [],
   "source": [
    "# Apply metadata filters to ensure varied results.\n",
    "retriever = chromadb.as_retriever(search_kwargs={\"k\": 10, \"filter\": {\"category\": \"tech\"}})"
   ]
  },
  {
   "cell_type": "code",
   "execution_count": null,
   "id": "0bc4814f-5320-4b7d-97ff-9b64d5e5948d",
   "metadata": {},
   "outputs": [],
   "source": [
    "# Consider hybrid search to combine vector and keyword search.\n",
    "retriever = hybrid_retriever = LangChainHybridRetriever(\n",
    "    dense_retriever=chromadb.as_retriever(),\n",
    "    sparse_retriever=sparse_retriever,\n",
    ")"
   ]
  },
  {
   "cell_type": "markdown",
   "id": "88ebdc5e-9d2f-4e7a-a18f-cccae38ce3d1",
   "metadata": {},
   "source": [
    "# Query augmentation"
   ]
  },
  {
   "cell_type": "code",
   "execution_count": 12,
   "id": "d9d3282c-5298-4e50-8753-63d925163320",
   "metadata": {},
   "outputs": [],
   "source": [
    "from langchain_nvidia_ai_endpoints import ChatNVIDIA\n",
    "from langchain.prompts import PromptTemplate\n",
    "from langchain.vectorstores import Chroma\n",
    "from langchain_nvidia_ai_endpoints import NVIDIAEmbeddings\n",
    "from langchain_community.document_loaders import CSVLoader\n",
    "from langchain_core.output_parsers import StrOutputParser"
   ]
  },
  {
   "cell_type": "code",
   "execution_count": 58,
   "id": "9b47b8a4-50f7-49a3-8fe8-2e21c9067176",
   "metadata": {},
   "outputs": [],
   "source": [
    "\n",
    "\n",
    "# Step 1: Define your LLM (e.g., OpenAI)\n",
    "llm = ChatNVIDIA(model=\"meta/llama-3.1-70b-instruct\", temperature=0)\n",
    "\n",
    "# Step 2: Define a prompt template for query augmentation\n",
    "prompt_template = \"\"\"\n",
    "You are an assistant tasked with generating different variations of a search query to help retrieve more diverse information.\n",
    "\n",
    "Original query: \"{query}\"\n",
    "\n",
    "Provide 3 different rephrased versions of this query that capture different ways of asking for the same or related information.\n",
    "\"\"\"\n",
    "\n",
    "prompt = PromptTemplate(template=prompt_template, input_variables=[\"query\"])\n",
    "\n",
    "# Step 3: Create the LLMChain for query augmentation\n",
    "aug_chain = prompt | llm | StrOutputParser()\n",
    "\n",
    "docs = CSVLoader(file_path=\"/data/test/data/Closed Incidents/Closed_Incidents_2.csv\").load()\n",
    "users = CSVLoader(file_path=\"/data/test/data/users/exportUsers.csv\").load()\n",
    "docs = docs + users\n",
    "\n",
    "# Step 4: Define your embedding model and ChromaDB\n",
    "vectorstore = Chroma.from_documents(\n",
    "        documents=docs,\n",
    "        collection_name=\"test-chroma\",\n",
    "        embedding=NVIDIAEmbeddings(model='NV-Embed-QA'),\n",
    "    )\n",
    "\n",
    "# Step 5: Define a function to perform augmented search\n",
    "def augmented_search(query):\n",
    "    # Generate augmented queries using the LLM\n",
    "    augmented_queries = aug_chain.invoke({\"query\" : query})\n",
    "\n",
    "    \"\"\"\n",
    "    # Create a retriever to search ChromaDB\n",
    "    retriever = vectorstore.as_retriever()\n",
    "    \n",
    "    all_results = []\n",
    "    \n",
    "    # Perform a search with the original and augmented queries\n",
    "    queries = [query] + augmented_queries\n",
    "    \n",
    "    for q in queries:\n",
    "        results = retriever.invoke(q)\n",
    "        all_results.extend(results)\n",
    "    \"\"\"\n",
    "    return augmented_queries\n",
    "\n"
   ]
  },
  {
   "cell_type": "code",
   "execution_count": 57,
   "id": "ba490d87-ec4a-4cb6-a25d-e1f667f07e14",
   "metadata": {},
   "outputs": [],
   "source": [
    "vectorstore._client.delete_collection(name=\"test-chroma\")"
   ]
  },
  {
   "cell_type": "code",
   "execution_count": 10,
   "id": "be41a341-68e2-456f-a0dd-ce3447998a31",
   "metadata": {},
   "outputs": [],
   "source": [
    "incident = CSVLoader(file_path=\"/data/test/data/sample input/LoginOutsideFinland_Emilia_SG_True.csv\").load()[0]"
   ]
  },
  {
   "cell_type": "code",
   "execution_count": 59,
   "id": "147cdf98-ff03-4330-8217-4dd8dea41a1e",
   "metadata": {},
   "outputs": [
    {
     "name": "stdout",
     "output_type": "stream",
     "text": [
      "Here are three rephrased versions of the original query:\n",
      "\n",
      "**Version 1: Focus on User Activity**\n",
      "\"User login activity outside of Finland on September 24, 2024, with medium severity alert\"\n",
      "\n",
      "This version focuses on the user's activity and the specific date, while removing some of the technical details like IP address and metadata.\n",
      "\n",
      "**Version 2: Emphasize Geolocation**\n",
      "\"Login attempts from Singapore (SG) on September 24, 2024, violating Finland login policy\"\n",
      "\n",
      "This version highlights the geolocation aspect of the alert, specifically mentioning Singapore as the location of the login attempt, and frames it as a policy violation.\n",
      "\n",
      "**Version 3: Focus on Alert Details**\n",
      "\"Medium severity alerts for user logins outside of allowed locations on September 24, 2024, with details on user and IP address\"\n",
      "\n",
      "This version takes a more general approach, focusing on the alert severity and the fact that the login occurred outside of an allowed location, while still including some details about the user and IP address.\n",
      "\n",
      "These rephrased versions can help retrieve more diverse information by using different keywords and phrasing, which can lead to different search results and insights.\n"
     ]
    }
   ],
   "source": [
    "# Step 6: Perform the search with query augmentation\n",
    "#query = \"What are the health benefits of green tea?\"\n",
    "results = augmented_search(incident)\n",
    "\n",
    "\n",
    "print(results)"
   ]
  },
  {
   "cell_type": "code",
   "execution_count": 76,
   "id": "5bc989a1-2d13-421a-b7f4-5fe51ecdf776",
   "metadata": {},
   "outputs": [
    {
     "name": "stdout",
     "output_type": "stream",
     "text": [
      "{'row': 4, 'source': '/data/test/data/Closed Incidents/Closed_Incidents_2.csv'}\n",
      "{'row': 12, 'source': '/data/test/data/Closed Incidents/Closed_Incidents_2.csv'}\n",
      "{'row': 5, 'source': '/data/test/data/Closed Incidents/Closed_Incidents_2.csv'}\n",
      "{'row': 6, 'source': '/data/test/data/Closed Incidents/Closed_Incidents_2.csv'}\n",
      "{'row': 1, 'source': '/data/test/data/users/exportUsers.csv'}\n"
     ]
    }
   ],
   "source": [
    "# maximal marginal relevance\n",
    "retriever = vectorstore.as_retriever(\n",
    "    search_type=\"mmr\",\n",
    "    search_kwargs={'k': 5, 'lambda_mult': 0.5, \"fetch_k\": 19}\n",
    ")\n",
    "\n",
    "documents = retriever.invoke(results)\n",
    "\n",
    "for doc in documents:\n",
    "    print(doc.metadata)"
   ]
  },
  {
   "cell_type": "code",
   "execution_count": 49,
   "id": "bea00522-fe24-4f33-bded-2a454deafca4",
   "metadata": {},
   "outputs": [
    {
     "data": {
      "text/plain": [
       "[Document(metadata={'source': '/data/test/data/Closed Incidents/Closed_Incidents_2.csv', 'row': 0}, page_content=': 0\\nTimeGenerated [UTC]: 9/20/2024, 9:17:53.315 PM\\nTitle: User logged in outside of Finland\\nDescription: The user has logged in outside of Finland, which is not allowed.\\nSeverity: Medium\\nStatus: Closed\\nClassification: TruePositive\\nClassificationComment: Joel logged from Japan to Azure Portal from the IP address: . The IP Address was also flagged as malicious. User has been normally logged in from Finland. This was also confirmed from the user and he did not traveled to Japan during that time. User password was reset and sessions revoked.\\nClassificationReason: SuspiciousActivity'),\n",
       " Document(metadata={'source': '/data/test/data/Closed Incidents/Closed_Incidents_2.csv', 'row': 1}, page_content=': 1\\nTimeGenerated [UTC]: 9/20/2024, 9:57:55.832 PM\\nTitle: User logged in outside of Finland\\nDescription: The user has logged in outside of Finland, which is not allowed.\\nSeverity: Medium\\nStatus: Closed\\nClassification: BenignPositive\\nClassificationComment: The user Lauri logged in from Denmark from the IP address: 2a00:1a28:2601::2. The IP was not flagged as suspicious. The user has previously logged in from Finland. It was confirmed from the user that he was visiting in Denmarks office. No further investigations needed.\\nClassificationReason: SuspiciousButExpected'),\n",
       " Document(metadata={'source': '/data/test/data/Closed Incidents/Closed_Incidents_2.csv', 'row': 2}, page_content=\": 2\\nTimeGenerated [UTC]: 9/20/2024, 10:01:28.594 PM\\nTitle: User logged in outside of Finland\\nDescription: The user has logged in outside of Finland, which is not allowed.\\nSeverity: Medium\\nStatus: Closed\\nClassification: BenignPositive\\nClassificationComment: The user Amélie was logged in from Denmark (DE) from the IP address: 2a00:1a28:2601::2. This IP address belongs to Company's Denmark office and therefore this incident does not need any further investigations.\\nClassificationReason: SuspiciousButExpected\"),\n",
       " Document(metadata={'source': '/data/test/data/Closed Incidents/Closed_Incidents_2.csv', 'row': 3}, page_content=': 3\\nTimeGenerated [UTC]: 9/20/2024, 5:52:46.107 PM\\nTitle: User logged in outside of Finland\\nDescription: The user has logged in outside of Finland, which is not allowed.\\nSeverity: Medium\\nStatus: Closed\\nClassification: FalsePositive\\nClassificationComment: Bill logged in from Norway (NO) to Azure Portal from the IP address: 2a00:1a28:2001::227. The IP address was not flagged as malicious. This was legitimate behavior as the user was on vacation.\\nClassificationReason: IncorrectAlertLogic'),\n",
       " Document(metadata={'source': '/data/test/data/Closed Incidents/Closed_Incidents_2.csv', 'row': 4}, page_content=': 4\\nTimeGenerated [UTC]: 9/20/2024, 6:25:39.463 PM\\nTitle: User logged in outside of Finland\\nDescription: The user has logged in outside of Finland, which is not allowed.\\nSeverity: Medium\\nStatus: Closed\\nClassification: TruePositive\\nClassificationComment: ill logged from Singapore to Azure Portal from the IP address: 2402:a7c0:8110:a015:1::214 . The IP Address was also flagged as malicious. User has been previously logged in from United States. This was also confirmed from the user and he did not traveled to Singapore during that time. User password was reset and sessions revoked.\\nClassificationReason: SuspiciousActivity'),\n",
       " Document(metadata={'source': '/data/test/data/Closed Incidents/Closed_Incidents_2.csv', 'row': 5}, page_content=': 5\\nTimeGenerated [UTC]: 9/20/2024, 9:55:44.910 PM\\nTitle: User logged in outside of Finland\\nDescription: The user has logged in outside of Finland, which is not allowed.\\nSeverity: Medium\\nStatus: Closed\\nClassification: BenignPositive\\nClassificationComment: The user Emilia was logged in from Sweden. This was legitimate as user confirmed that she was at the business intelligence event during that time. No further investigations needed.\\nClassificationReason: SuspiciousButExpected'),\n",
       " Document(metadata={'source': '/data/test/data/Closed Incidents/Closed_Incidents_2.csv', 'row': 6}, page_content=': 6\\nTimeGenerated [UTC]: 9/13/2024, 7:41:25.205 PM\\nTitle: User logged in outside of Finland\\nDescription: The user has logged in outside of Finland, which is not allowed.\\nSeverity: Medium\\nStatus: Closed\\nClassification: TruePositive\\nClassificationComment: The user Joel has logged in successfully with password as an authentication method from United Stated (US) and Belgium (BE). User normally logins from Finland (FI) when investigating users previous logins from the last 30 days. This was also confirmed from the user that he did not used VPN or travelled to these countries. The user password was resetted and session revoked. No any malicious activity done by the hacker.\\nClassificationReason: SuspiciousActivity'),\n",
       " Document(metadata={'source': '/data/test/data/Closed Incidents/Closed_Incidents_2.csv', 'row': 7}, page_content=': 7\\nTimeGenerated [UTC]: 9/13/2024, 7:43:01.781 PM\\nTitle: User logged in outside of Finland\\nDescription: The user has logged in outside of Finland, which is not allowed.\\nSeverity: Medium\\nStatus: Closed\\nClassification: BenignPositive\\nClassificationComment: The user \"Bill Hader\" has logged in from United States (US). This user is external consultant and works primarily from United States. No further investigation needed.\\nClassificationReason: SuspiciousButExpected'),\n",
       " Document(metadata={'source': '/data/test/data/Closed Incidents/Closed_Incidents_2.csv', 'row': 8}, page_content=': 8\\nTimeGenerated [UTC]: 9/13/2024, 7:44:10.136 PM\\nTitle: User logged in outside of Finland\\nDescription: The user has logged in outside of Finland, which is not allowed.\\nSeverity: Medium\\nStatus: Closed\\nClassification: BenignPositive\\nClassificationComment: The user \"Bill Hader\" has logged in from United States (US). This user is external consultant and works primarily from United States. No further investigation needed.\\nClassificationReason: SuspiciousButExpected'),\n",
       " Document(metadata={'source': '/data/test/data/Closed Incidents/Closed_Incidents_2.csv', 'row': 9}, page_content=': 9\\nTimeGenerated [UTC]: 9/20/2024, 9:39:44.653 PM\\nTitle: User logged in outside of Finland\\nDescription: The user has logged in outside of Finland, which is not allowed.\\nSeverity: Medium\\nStatus: Closed\\nClassification: BenignPositive\\nClassificationComment: The user Amélie logged in from Belgium. This was legitimate behavior as Amélia works as an external consultant from France near Belgium boarder and sometimes the IP location points to Belgium.\\nClassificationReason: SuspiciousButExpected'),\n",
       " Document(metadata={'source': '/data/test/data/Closed Incidents/Closed_Incidents_2.csv', 'row': 10}, page_content=': 10\\nTimeGenerated [UTC]: 9/20/2024, 5:27:12.302 PM\\nTitle: User logged in outside of Finland\\nDescription: The user has logged in outside of Finland, which is not allowed.\\nSeverity: Medium\\nStatus: Closed\\nClassification: FalsePositive\\nClassificationComment: Joel logged in from Italy (IT) to Azure Portal from the IP Address: 2604:4500:1f:2::77. It was confirmed from the user that he traveled there for a vacation and checked his email. No further investigations needed.\\nClassificationReason: IncorrectAlertLogic'),\n",
       " Document(metadata={'source': '/data/test/data/Closed Incidents/Closed_Incidents_2.csv', 'row': 11}, page_content=': 11\\nTimeGenerated [UTC]: 9/20/2024, 9:50:07.224 PM\\nTitle: User logged in outside of Finland\\nDescription: The user has logged in outside of Finland, which is not allowed.\\nSeverity: Medium\\nStatus: Closed\\nClassification: BenignPositive\\nClassificationComment: The user Emilia has logged in from Sweden (SE) from IP address: \\n2a02:752:0:16::24. IP address was not flagged as a malicious. According to the user, she was in business intelligence event in Sweden that time. This was legitimate behaviour and no further investigations needed.\\nClassificationReason: SuspiciousButExpected'),\n",
       " Document(metadata={'source': '/data/test/data/Closed Incidents/Closed_Incidents_2.csv', 'row': 12}, page_content=': 12\\nTimeGenerated [UTC]: 9/20/2024, 10:05:13.309 PM\\nTitle: User logged in outside of Finland\\nDescription: The user has logged in outside of Finland, which is not allowed.\\nSeverity: Medium\\nStatus: Closed\\nClassification: TruePositive\\nClassificationComment: The user Emilia was logged in from Singapore (SG), which she does not usually log in. After investigating the IP address (2001:df1:800:c005:2::216), it seems that this IP is used for malicious activities. The user was contacted and she confirmed that this activity was not done by her. User password was reset and sessions revoked. It was also confirmed that no any malicious activity was done by the threat actor.\\nClassificationReason: SuspiciousActivity'),\n",
       " Document(metadata={'source': '/data/test/data/users/exportUsers.csv', 'row': 0}, page_content='\\ufeffuserPrincipalName: joel@kuhnojkagmail.onmicrosoft.com\\ndisplayName: Joel Kataja\\nsurname: \\nmail: \\ngivenName: \\nid: 2cb0f342-2959-4e5e-a8d1-d3e7d52773ed\\nuserType: Member\\njobTitle: \\ndepartment: \\naccountEnabled: True\\nusageLocation: FI\\nstreetAddress: \\nstate: \\ncountry: FI\\nofficeLocation: \\ncity: \\npostalCode: \\ntelephoneNumber: \\nmobilePhone: \\nalternateEmailAddress: \\nageGroup: \\nconsentProvidedForMinor: \\nlegalAgeGroupClassification: \\ncompanyName: \\ncreationType: \\ndirectorySynced: \\ninvitationState: \\nidentityIssuer: kuhnojkagmail.onmicrosoft.com\\ncreatedDateTime: 9/12/2024 8:17:21 PM'),\n",
       " Document(metadata={'source': '/data/test/data/users/exportUsers.csv', 'row': 1}, page_content='\\ufeffuserPrincipalName: amelie@kuhnojkagmail.onmicrosoft.com\\ndisplayName: Amélie Dupont (EXTERNAL CONSULTANT)\\nsurname: Dupont\\nmail: \\ngivenName: Amélie\\nid: 609183da-b0a8-4e4a-a70e-636018747d08\\nuserType: Member\\njobTitle: Marketing Coordinator\\ndepartment: Digital Marketing\\naccountEnabled: True\\nusageLocation: FR\\nstreetAddress: \\nstate: Paris\\ncountry: FR\\nofficeLocation: \\ncity: \\npostalCode: \\ntelephoneNumber: \\nmobilePhone: \\nalternateEmailAddress: \\nageGroup: \\nconsentProvidedForMinor: \\nlegalAgeGroupClassification: \\ncompanyName: \\ncreationType: \\ndirectorySynced: \\ninvitationState: \\nidentityIssuer: kuhnojkagmail.onmicrosoft.com\\ncreatedDateTime: 9/20/2024 6:53:03 PM'),\n",
       " Document(metadata={'source': '/data/test/data/users/exportUsers.csv', 'row': 2}, page_content='\\ufeffuserPrincipalName: bill@kuhnojkagmail.onmicrosoft.com\\ndisplayName: Bill Hader\\nsurname: Hader\\nmail: \\ngivenName: Bill\\nid: 8f34629e-9d63-4a45-b63e-14e95b2d6a76\\nuserType: Member\\njobTitle: \\ndepartment: \\naccountEnabled: True\\nusageLocation: \\nstreetAddress: 40 W Main St\\nstate: New York\\ncountry: USA\\nofficeLocation: \\ncity: Port Jervis\\npostalCode: 12771\\ntelephoneNumber: \\nmobilePhone: \\nalternateEmailAddress: \\nageGroup: \\nconsentProvidedForMinor: \\nlegalAgeGroupClassification: \\ncompanyName: \\ncreationType: \\ndirectorySynced: \\ninvitationState: \\nidentityIssuer: kuhnojkagmail.onmicrosoft.com\\ncreatedDateTime: 9/13/2024 6:45:55 PM'),\n",
       " Document(metadata={'source': '/data/test/data/users/exportUsers.csv', 'row': 3}, page_content='\\ufeffuserPrincipalName: kuhnojka_gmail.com#EXT#@kuhnojkagmail.onmicrosoft.com\\ndisplayName: Jani Kuhno\\nsurname: Kuhno\\nmail: \\ngivenName: Jani\\nid: b1710b35-fa76-4b4c-bc78-5de00f04df4b\\nuserType: Member\\njobTitle: \\ndepartment: \\naccountEnabled: True\\nusageLocation: FI\\nstreetAddress: \\nstate: \\ncountry: \\nofficeLocation: \\ncity: \\npostalCode: \\ntelephoneNumber: \\nmobilePhone: \\nalternateEmailAddress: kuhnojka@gmail.com\\nageGroup: \\nconsentProvidedForMinor: \\nlegalAgeGroupClassification: \\ncompanyName: \\ncreationType: \\ndirectorySynced: \\ninvitationState: \\nidentityIssuer: Multiple\\ncreatedDateTime: 9/12/2024 7:37:04 PM'),\n",
       " Document(metadata={'source': '/data/test/data/users/exportUsers.csv', 'row': 4}, page_content='\\ufeffuserPrincipalName: emilia@kuhnojkagmail.onmicrosoft.com\\ndisplayName: Emilia Hartikainen\\nsurname: Hartikainen\\nmail: \\ngivenName: Emilia\\nid: df0952c0-792f-4c1c-a691-4f038392f92d\\nuserType: Member\\njobTitle: Senior Data Analyst\\ndepartment: Business Intelligence\\naccountEnabled: True\\nusageLocation: FI\\nstreetAddress: \\nstate: Helsinki\\ncountry: FI\\nofficeLocation: \\ncity: \\npostalCode: \\ntelephoneNumber: \\nmobilePhone: \\nalternateEmailAddress: \\nageGroup: \\nconsentProvidedForMinor: \\nlegalAgeGroupClassification: \\ncompanyName: \\ncreationType: \\ndirectorySynced: \\ninvitationState: \\nidentityIssuer: kuhnojkagmail.onmicrosoft.com\\ncreatedDateTime: 9/20/2024 6:53:03 PM'),\n",
       " Document(metadata={'source': '/data/test/data/users/exportUsers.csv', 'row': 5}, page_content='\\ufeffuserPrincipalName: lauri@kuhnojkagmail.onmicrosoft.com\\ndisplayName: Lauri Virtanen\\nsurname: Virtanen\\nmail: \\ngivenName: Lauri\\nid: e3886844-1aa5-4f22-b0d5-dd4441cbf89f\\nuserType: Member\\njobTitle: IT Support Specialist\\ndepartment: Information Technology\\naccountEnabled: True\\nusageLocation: FI\\nstreetAddress: \\nstate: Espoo\\ncountry: FI\\nofficeLocation: \\ncity: \\npostalCode: \\ntelephoneNumber: \\nmobilePhone: \\nalternateEmailAddress: \\nageGroup: \\nconsentProvidedForMinor: \\nlegalAgeGroupClassification: \\ncompanyName: \\ncreationType: \\ndirectorySynced: \\ninvitationState: \\nidentityIssuer: kuhnojkagmail.onmicrosoft.com\\ncreatedDateTime: 9/20/2024 6:53:03 PM')]"
      ]
     },
     "execution_count": 49,
     "metadata": {},
     "output_type": "execute_result"
    }
   ],
   "source": [
    "docs\n"
   ]
  }
 ],
 "metadata": {
  "kernelspec": {
   "display_name": "Python 3 (ipykernel)",
   "language": "python",
   "name": "python3"
  },
  "language_info": {
   "codemirror_mode": {
    "name": "ipython",
    "version": 3
   },
   "file_extension": ".py",
   "mimetype": "text/x-python",
   "name": "python",
   "nbconvert_exporter": "python",
   "pygments_lexer": "ipython3",
   "version": "3.10.12"
  }
 },
 "nbformat": 4,
 "nbformat_minor": 5
}
