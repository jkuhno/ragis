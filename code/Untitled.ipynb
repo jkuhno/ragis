{
 "cells": [
  {
   "cell_type": "code",
   "execution_count": 1,
   "id": "d5ce3800-40db-4e63-a6cf-39ec25fa8b34",
   "metadata": {},
   "outputs": [],
   "source": [
    "import pandas as pd\n",
    "from langchain_community.document_loaders import CSVLoader\n",
    "\n",
    "from langchain.text_splitter import RecursiveCharacterTextSplitter"
   ]
  },
  {
   "cell_type": "code",
   "execution_count": 2,
   "id": "2bb3e170-d392-4df8-8914-ae48aeb3ca94",
   "metadata": {},
   "outputs": [],
   "source": [
    "from langchain_community.vectorstores import Chroma\n",
    "from langchain_nvidia_ai_endpoints import NVIDIAEmbeddings\n",
    "from langchain.prompts import PromptTemplate\n",
    "from langchain_nvidia_ai_endpoints import ChatNVIDIA\n",
    "from langchain_core.output_parsers import JsonOutputParser\n",
    "from langchain_core.output_parsers import StrOutputParser"
   ]
  },
  {
   "cell_type": "code",
   "execution_count": 1,
   "id": "e6996ba1-33c6-4b69-ba98-f25ef96ff7aa",
   "metadata": {},
   "outputs": [
    {
     "name": "stdout",
     "output_type": "stream",
     "text": [
      "[1, 2, 3, 4, 1, 2, 3, 4, 5, 6]\n"
     ]
    }
   ],
   "source": [
    "x = [1, 2, 3, 4]\n",
    "y = [1, 2, 3, 4, 5, 6]\n",
    "\n",
    "z = x + y\n",
    "\n",
    "print(z)"
   ]
  },
  {
   "cell_type": "code",
   "execution_count": 2,
   "id": "fa402a10-f9ba-4c9a-bb8f-9d547c47880a",
   "metadata": {},
   "outputs": [
    {
     "ename": "RuntimeError",
     "evalue": "Error loading /data/scratch/sample_input/LoginOutsideFinland_Bill_CA.csv",
     "output_type": "error",
     "traceback": [
      "\u001b[0;31m---------------------------------------------------------------------------\u001b[0m",
      "\u001b[0;31mFileNotFoundError\u001b[0m                         Traceback (most recent call last)",
      "File \u001b[0;32m~/.local/lib/python3.10/site-packages/langchain_community/document_loaders/csv_loader.py:129\u001b[0m, in \u001b[0;36mCSVLoader.lazy_load\u001b[0;34m(self)\u001b[0m\n\u001b[1;32m    128\u001b[0m \u001b[38;5;28;01mtry\u001b[39;00m:\n\u001b[0;32m--> 129\u001b[0m     \u001b[38;5;28;01mwith\u001b[39;00m \u001b[38;5;28;43mopen\u001b[39;49m\u001b[43m(\u001b[49m\u001b[38;5;28;43mself\u001b[39;49m\u001b[38;5;241;43m.\u001b[39;49m\u001b[43mfile_path\u001b[49m\u001b[43m,\u001b[49m\u001b[43m \u001b[49m\u001b[43mnewline\u001b[49m\u001b[38;5;241;43m=\u001b[39;49m\u001b[38;5;124;43m\"\u001b[39;49m\u001b[38;5;124;43m\"\u001b[39;49m\u001b[43m,\u001b[49m\u001b[43m \u001b[49m\u001b[43mencoding\u001b[49m\u001b[38;5;241;43m=\u001b[39;49m\u001b[38;5;28;43mself\u001b[39;49m\u001b[38;5;241;43m.\u001b[39;49m\u001b[43mencoding\u001b[49m\u001b[43m)\u001b[49m \u001b[38;5;28;01mas\u001b[39;00m csvfile:\n\u001b[1;32m    130\u001b[0m         \u001b[38;5;28;01myield from\u001b[39;00m \u001b[38;5;28mself\u001b[39m\u001b[38;5;241m.\u001b[39m__read_file(csvfile)\n",
      "\u001b[0;31mFileNotFoundError\u001b[0m: [Errno 2] No such file or directory: '/data/scratch/sample_input/LoginOutsideFinland_Bill_CA.csv'",
      "\nThe above exception was the direct cause of the following exception:\n",
      "\u001b[0;31mRuntimeError\u001b[0m                              Traceback (most recent call last)",
      "Cell \u001b[0;32mIn[2], line 1\u001b[0m\n\u001b[0;32m----> 1\u001b[0m bill_ca \u001b[38;5;241m=\u001b[39m \u001b[43mCSVLoader\u001b[49m\u001b[43m(\u001b[49m\u001b[43mfile_path\u001b[49m\u001b[38;5;241;43m=\u001b[39;49m\u001b[38;5;124;43m'\u001b[39;49m\u001b[38;5;124;43m/data/scratch/sample_input/LoginOutsideFinland_Bill_CA.csv\u001b[39;49m\u001b[38;5;124;43m'\u001b[39;49m\u001b[43m)\u001b[49m\u001b[38;5;241;43m.\u001b[39;49m\u001b[43mload\u001b[49m\u001b[43m(\u001b[49m\u001b[43m)\u001b[49m[\u001b[38;5;241m0\u001b[39m]\n\u001b[1;32m      2\u001b[0m bill_us \u001b[38;5;241m=\u001b[39m CSVLoader(file_path\u001b[38;5;241m=\u001b[39m\u001b[38;5;124m'\u001b[39m\u001b[38;5;124m/data/scratch/sample_input/LoginOutsideFinland_Bill_US.csv\u001b[39m\u001b[38;5;124m'\u001b[39m)\u001b[38;5;241m.\u001b[39mload()[\u001b[38;5;241m0\u001b[39m]\n\u001b[1;32m      3\u001b[0m joel_ca \u001b[38;5;241m=\u001b[39m CSVLoader(file_path\u001b[38;5;241m=\u001b[39m\u001b[38;5;124m'\u001b[39m\u001b[38;5;124m/data/scratch/sample_input/LoginOutsideFinland_Joel.csv\u001b[39m\u001b[38;5;124m'\u001b[39m)\u001b[38;5;241m.\u001b[39mload()[\u001b[38;5;241m0\u001b[39m]\n",
      "File \u001b[0;32m~/.local/lib/python3.10/site-packages/langchain_core/document_loaders/base.py:30\u001b[0m, in \u001b[0;36mBaseLoader.load\u001b[0;34m(self)\u001b[0m\n\u001b[1;32m     28\u001b[0m \u001b[38;5;28;01mdef\u001b[39;00m \u001b[38;5;21mload\u001b[39m(\u001b[38;5;28mself\u001b[39m) \u001b[38;5;241m-\u001b[39m\u001b[38;5;241m>\u001b[39m List[Document]:\n\u001b[1;32m     29\u001b[0m \u001b[38;5;250m    \u001b[39m\u001b[38;5;124;03m\"\"\"Load data into Document objects.\"\"\"\u001b[39;00m\n\u001b[0;32m---> 30\u001b[0m     \u001b[38;5;28;01mreturn\u001b[39;00m \u001b[38;5;28;43mlist\u001b[39;49m\u001b[43m(\u001b[49m\u001b[38;5;28;43mself\u001b[39;49m\u001b[38;5;241;43m.\u001b[39;49m\u001b[43mlazy_load\u001b[49m\u001b[43m(\u001b[49m\u001b[43m)\u001b[49m\u001b[43m)\u001b[49m\n",
      "File \u001b[0;32m~/.local/lib/python3.10/site-packages/langchain_community/document_loaders/csv_loader.py:146\u001b[0m, in \u001b[0;36mCSVLoader.lazy_load\u001b[0;34m(self)\u001b[0m\n\u001b[1;32m    144\u001b[0m         \u001b[38;5;28;01mraise\u001b[39;00m \u001b[38;5;167;01mRuntimeError\u001b[39;00m(\u001b[38;5;124mf\u001b[39m\u001b[38;5;124m\"\u001b[39m\u001b[38;5;124mError loading \u001b[39m\u001b[38;5;132;01m{\u001b[39;00m\u001b[38;5;28mself\u001b[39m\u001b[38;5;241m.\u001b[39mfile_path\u001b[38;5;132;01m}\u001b[39;00m\u001b[38;5;124m\"\u001b[39m) \u001b[38;5;28;01mfrom\u001b[39;00m \u001b[38;5;21;01me\u001b[39;00m\n\u001b[1;32m    145\u001b[0m \u001b[38;5;28;01mexcept\u001b[39;00m \u001b[38;5;167;01mException\u001b[39;00m \u001b[38;5;28;01mas\u001b[39;00m e:\n\u001b[0;32m--> 146\u001b[0m     \u001b[38;5;28;01mraise\u001b[39;00m \u001b[38;5;167;01mRuntimeError\u001b[39;00m(\u001b[38;5;124mf\u001b[39m\u001b[38;5;124m\"\u001b[39m\u001b[38;5;124mError loading \u001b[39m\u001b[38;5;132;01m{\u001b[39;00m\u001b[38;5;28mself\u001b[39m\u001b[38;5;241m.\u001b[39mfile_path\u001b[38;5;132;01m}\u001b[39;00m\u001b[38;5;124m\"\u001b[39m) \u001b[38;5;28;01mfrom\u001b[39;00m \u001b[38;5;21;01me\u001b[39;00m\n",
      "\u001b[0;31mRuntimeError\u001b[0m: Error loading /data/scratch/sample_input/LoginOutsideFinland_Bill_CA.csv"
     ]
    }
   ],
   "source": [
    "bill_ca = CSVLoader(file_path='/data/scratch/sample_input/LoginOutsideFinland_Bill_CA.csv').load()[0]\n",
    "bill_us = CSVLoader(file_path='/data/scratch/sample_input/LoginOutsideFinland_Bill_US.csv').load()[0]\n",
    "joel_ca = CSVLoader(file_path='/data/scratch/sample_input/LoginOutsideFinland_Joel.csv').load()[0]"
   ]
  },
  {
   "cell_type": "code",
   "execution_count": 1,
   "id": "e0af5bab-7c59-48a3-86a3-f3979512d37a",
   "metadata": {},
   "outputs": [],
   "source": [
    "dict = {\n",
    "    \"name\": \"joel\",\n",
    "    \"age\": 24\n",
    "}"
   ]
  },
  {
   "cell_type": "code",
   "execution_count": 2,
   "id": "83c30dee-5088-4070-adac-ab10c6be90a6",
   "metadata": {},
   "outputs": [
    {
     "data": {
      "text/plain": [
       "{'name': 'joel', 'age': 24}"
      ]
     },
     "execution_count": 2,
     "metadata": {},
     "output_type": "execute_result"
    }
   ],
   "source": [
    "dict"
   ]
  },
  {
   "cell_type": "code",
   "execution_count": 11,
   "id": "86b8fa40-d76c-4257-9b2e-19b3538be1cb",
   "metadata": {},
   "outputs": [
    {
     "ename": "NameError",
     "evalue": "name 'rags' is not defined",
     "output_type": "error",
     "traceback": [
      "\u001b[0;31m---------------------------------------------------------------------------\u001b[0m",
      "\u001b[0;31mNameError\u001b[0m                                 Traceback (most recent call last)",
      "Cell \u001b[0;32mIn[11], line 7\u001b[0m\n\u001b[1;32m      3\u001b[0m \u001b[38;5;28;01mdef\u001b[39;00m \u001b[38;5;21mgreet\u001b[39m(name, intensity):\n\u001b[1;32m      4\u001b[0m     \u001b[38;5;28;01mreturn\u001b[39;00m \u001b[38;5;124m\"\u001b[39m\u001b[38;5;124mHi, \u001b[39m\u001b[38;5;124m\"\u001b[39m \u001b[38;5;241m+\u001b[39m name \u001b[38;5;241m+\u001b[39m \u001b[38;5;124m\"\u001b[39m\u001b[38;5;124m!\u001b[39m\u001b[38;5;124m\"\u001b[39m \u001b[38;5;241m*\u001b[39m \u001b[38;5;28mint\u001b[39m(intensity)\n\u001b[1;32m      6\u001b[0m demo \u001b[38;5;241m=\u001b[39m gr\u001b[38;5;241m.\u001b[39mInterface(\n\u001b[0;32m----> 7\u001b[0m     fn\u001b[38;5;241m=\u001b[39m\u001b[43mrags\u001b[49m\u001b[38;5;241m.\u001b[39mtest,\n\u001b[1;32m      8\u001b[0m     inputs\u001b[38;5;241m=\u001b[39m[\u001b[38;5;124m\"\u001b[39m\u001b[38;5;124mtext\u001b[39m\u001b[38;5;124m\"\u001b[39m, \u001b[38;5;124m\"\u001b[39m\u001b[38;5;124mslider\u001b[39m\u001b[38;5;124m\"\u001b[39m],\n\u001b[1;32m      9\u001b[0m     outputs\u001b[38;5;241m=\u001b[39m[\u001b[38;5;124m\"\u001b[39m\u001b[38;5;124mtext\u001b[39m\u001b[38;5;124m\"\u001b[39m],\n\u001b[1;32m     10\u001b[0m )\n\u001b[1;32m     12\u001b[0m proxy_prefix \u001b[38;5;241m=\u001b[39m os\u001b[38;5;241m.\u001b[39menviron\u001b[38;5;241m.\u001b[39mget(\u001b[38;5;124m\"\u001b[39m\u001b[38;5;124mPROXY_PREFIX\u001b[39m\u001b[38;5;124m\"\u001b[39m)\n\u001b[1;32m     13\u001b[0m demo\u001b[38;5;241m.\u001b[39mlaunch(server_name\u001b[38;5;241m=\u001b[39m\u001b[38;5;124m\"\u001b[39m\u001b[38;5;124m0.0.0.0\u001b[39m\u001b[38;5;124m\"\u001b[39m, server_port\u001b[38;5;241m=\u001b[39m\u001b[38;5;241m8080\u001b[39m, root_path\u001b[38;5;241m=\u001b[39mproxy_prefix)\n",
      "\u001b[0;31mNameError\u001b[0m: name 'rags' is not defined"
     ]
    }
   ],
   "source": [
    "import gradio as gr\n",
    "import os\n",
    "def greet(name, intensity):\n",
    "    return \"Hi, \" + name + \"!\" * int(intensity)\n",
    "\n",
    "demo = gr.Interface(\n",
    "    fn=rag.test,\n",
    "    inputs=[\"text\", \"slider\"],\n",
    "    outputs=[\"text\"],\n",
    ")\n",
    "\n",
    "proxy_prefix = os.environ.get(\"PROXY_PREFIX\")\n",
    "demo.launch(server_name=\"0.0.0.0\", server_port=8080, root_path=proxy_prefix)"
   ]
  },
  {
   "cell_type": "code",
   "execution_count": 9,
   "id": "f49d8e78-5958-4982-b868-a09695457b53",
   "metadata": {},
   "outputs": [],
   "source": [
    "import rag_module as rag"
   ]
  },
  {
   "cell_type": "code",
   "execution_count": 8,
   "id": "531e4cdb-27b3-45b0-921e-2f51b481942e",
   "metadata": {},
   "outputs": [
    {
     "name": "stdout",
     "output_type": "stream",
     "text": [
      "page_content='﻿\"TimeGenerated [Local Time]\": 9/13/2024, 11:02:10.113 PM\n",
      "AlertName: User logged in outside of Finland\n",
      "AlertSeverity: Medium\n",
      "Description: The user has logged in outside of Finland, which is not allowed.\n",
      "DisplayName: Bill Hader\n",
      "IpAddress: 2607:f0d0:3601:3b::7\n",
      "Location: CA' metadata={'source': '/data/scratch/sample_input/LoginOutsideFinland_Bill_CA.csv', 'row': 0}\n"
     ]
    }
   ],
   "source": [
    "print(rag_module.bill_ca)"
   ]
  },
  {
   "cell_type": "code",
   "execution_count": 34,
   "id": "5040850a-8d0f-4db1-bd64-0d54b4a78c8a",
   "metadata": {},
   "outputs": [
    {
     "data": {
      "text/plain": [
       "{'AlertName': {'9/13/2024, 11:07:04.720 PM': 'User logged in outside of Finland'},\n",
       " 'AlertSeverity': {'9/13/2024, 11:07:04.720 PM': 'Medium'},\n",
       " 'Description': {'9/13/2024, 11:07:04.720 PM': 'The user has logged in outside of Finland, which is not allowed.'},\n",
       " 'DisplayName': {'9/13/2024, 11:07:04.720 PM': 'Joel Kataja'},\n",
       " 'IpAddress': {'9/13/2024, 11:07:04.720 PM': '2607:f0d0:3601:3b::7'},\n",
       " 'Location': {'9/13/2024, 11:07:04.720 PM': 'CA'}}"
      ]
     },
     "execution_count": 34,
     "metadata": {},
     "output_type": "execute_result"
    }
   ],
   "source": [
    "closed = pd.read_csv('/data/test/sample_input/LoginOutsideFinland_Joel.csv', index_col=[0])\n",
    "closed = closed.dropna(axis=1, how=\"all\")\n",
    "#users = users.to_csv('/data/scratch/exportUsers_2024-9-13.csv')\n",
    "dict = closed.to_dict()\n",
    "dict"
   ]
  },
  {
   "cell_type": "code",
   "execution_count": 29,
   "id": "a0b22186-ddc0-4a02-9d34-edf9b7fa1f4a",
   "metadata": {},
   "outputs": [],
   "source": []
  },
  {
   "cell_type": "code",
   "execution_count": 9,
   "id": "4e8418e5-064f-423d-a104-1e16385879b2",
   "metadata": {},
   "outputs": [],
   "source": [
    "df = pd.DataFrame(dict)\n"
   ]
  },
  {
   "cell_type": "code",
   "execution_count": 39,
   "id": "538a2259-4702-44cb-8b61-8f19da8ff22b",
   "metadata": {},
   "outputs": [],
   "source": [
    "import test_data as td\n",
    "y = td.get_sample_alert()\n"
   ]
  },
  {
   "cell_type": "code",
   "execution_count": 2,
   "id": "10fa9693-469a-479b-a7e4-b8786a1de458",
   "metadata": {},
   "outputs": [
    {
     "data": {
      "text/html": [
       "<div>\n",
       "<style scoped>\n",
       "    .dataframe tbody tr th:only-of-type {\n",
       "        vertical-align: middle;\n",
       "    }\n",
       "\n",
       "    .dataframe tbody tr th {\n",
       "        vertical-align: top;\n",
       "    }\n",
       "\n",
       "    .dataframe thead th {\n",
       "        text-align: right;\n",
       "    }\n",
       "</style>\n",
       "<table border=\"1\" class=\"dataframe\">\n",
       "  <thead>\n",
       "    <tr style=\"text-align: right;\">\n",
       "      <th></th>\n",
       "      <th>Title</th>\n",
       "      <th>Description</th>\n",
       "      <th>Severity</th>\n",
       "      <th>Status</th>\n",
       "      <th>Classification</th>\n",
       "      <th>ClassificationComment</th>\n",
       "      <th>ClassificationReason</th>\n",
       "    </tr>\n",
       "  </thead>\n",
       "  <tbody>\n",
       "    <tr>\n",
       "      <th>9/20/2024, 9:17:53.315 PM</th>\n",
       "      <td>User logged in outside of Finland</td>\n",
       "      <td>The user has logged in outside of Finland, whi...</td>\n",
       "      <td>Medium</td>\n",
       "      <td>Closed</td>\n",
       "      <td>TruePositive</td>\n",
       "      <td>Joel logged from Japan to Azure Portal from th...</td>\n",
       "      <td>SuspiciousActivity</td>\n",
       "    </tr>\n",
       "    <tr>\n",
       "      <th>9/20/2024, 9:57:55.832 PM</th>\n",
       "      <td>User logged in outside of Finland</td>\n",
       "      <td>The user has logged in outside of Finland, whi...</td>\n",
       "      <td>Medium</td>\n",
       "      <td>Closed</td>\n",
       "      <td>BenignPositive</td>\n",
       "      <td>The user Lauri logged in from Denmark from the...</td>\n",
       "      <td>SuspiciousButExpected</td>\n",
       "    </tr>\n",
       "    <tr>\n",
       "      <th>9/20/2024, 10:01:28.594 PM</th>\n",
       "      <td>User logged in outside of Finland</td>\n",
       "      <td>The user has logged in outside of Finland, whi...</td>\n",
       "      <td>Medium</td>\n",
       "      <td>Closed</td>\n",
       "      <td>BenignPositive</td>\n",
       "      <td>The user Amélie was logged in from Denmark (DE...</td>\n",
       "      <td>SuspiciousButExpected</td>\n",
       "    </tr>\n",
       "    <tr>\n",
       "      <th>9/20/2024, 5:52:46.107 PM</th>\n",
       "      <td>User logged in outside of Finland</td>\n",
       "      <td>The user has logged in outside of Finland, whi...</td>\n",
       "      <td>Medium</td>\n",
       "      <td>Closed</td>\n",
       "      <td>FalsePositive</td>\n",
       "      <td>Bill logged in from Norway (NO) to Azure Porta...</td>\n",
       "      <td>IncorrectAlertLogic</td>\n",
       "    </tr>\n",
       "    <tr>\n",
       "      <th>9/20/2024, 6:25:39.463 PM</th>\n",
       "      <td>User logged in outside of Finland</td>\n",
       "      <td>The user has logged in outside of Finland, whi...</td>\n",
       "      <td>Medium</td>\n",
       "      <td>Closed</td>\n",
       "      <td>TruePositive</td>\n",
       "      <td>ill logged from Singapore to Azure Portal from...</td>\n",
       "      <td>SuspiciousActivity</td>\n",
       "    </tr>\n",
       "    <tr>\n",
       "      <th>9/20/2024, 9:55:44.910 PM</th>\n",
       "      <td>User logged in outside of Finland</td>\n",
       "      <td>The user has logged in outside of Finland, whi...</td>\n",
       "      <td>Medium</td>\n",
       "      <td>Closed</td>\n",
       "      <td>BenignPositive</td>\n",
       "      <td>The user Emilia was logged in from Sweden. Thi...</td>\n",
       "      <td>SuspiciousButExpected</td>\n",
       "    </tr>\n",
       "    <tr>\n",
       "      <th>9/13/2024, 7:41:25.205 PM</th>\n",
       "      <td>User logged in outside of Finland</td>\n",
       "      <td>The user has logged in outside of Finland, whi...</td>\n",
       "      <td>Medium</td>\n",
       "      <td>Closed</td>\n",
       "      <td>TruePositive</td>\n",
       "      <td>The user Joel has logged in successfully with ...</td>\n",
       "      <td>SuspiciousActivity</td>\n",
       "    </tr>\n",
       "    <tr>\n",
       "      <th>9/13/2024, 7:43:01.781 PM</th>\n",
       "      <td>User logged in outside of Finland</td>\n",
       "      <td>The user has logged in outside of Finland, whi...</td>\n",
       "      <td>Medium</td>\n",
       "      <td>Closed</td>\n",
       "      <td>BenignPositive</td>\n",
       "      <td>The user \"Bill Hader\" has logged in from Unite...</td>\n",
       "      <td>SuspiciousButExpected</td>\n",
       "    </tr>\n",
       "    <tr>\n",
       "      <th>9/13/2024, 7:44:10.136 PM</th>\n",
       "      <td>User logged in outside of Finland</td>\n",
       "      <td>The user has logged in outside of Finland, whi...</td>\n",
       "      <td>Medium</td>\n",
       "      <td>Closed</td>\n",
       "      <td>BenignPositive</td>\n",
       "      <td>The user \"Bill Hader\" has logged in from Unite...</td>\n",
       "      <td>SuspiciousButExpected</td>\n",
       "    </tr>\n",
       "    <tr>\n",
       "      <th>9/20/2024, 9:39:44.653 PM</th>\n",
       "      <td>User logged in outside of Finland</td>\n",
       "      <td>The user has logged in outside of Finland, whi...</td>\n",
       "      <td>Medium</td>\n",
       "      <td>Closed</td>\n",
       "      <td>BenignPositive</td>\n",
       "      <td>The user Amélie logged in from Belgium. This w...</td>\n",
       "      <td>SuspiciousButExpected</td>\n",
       "    </tr>\n",
       "    <tr>\n",
       "      <th>9/20/2024, 5:27:12.302 PM</th>\n",
       "      <td>User logged in outside of Finland</td>\n",
       "      <td>The user has logged in outside of Finland, whi...</td>\n",
       "      <td>Medium</td>\n",
       "      <td>Closed</td>\n",
       "      <td>FalsePositive</td>\n",
       "      <td>Joel logged in from Italy (IT) to Azure Portal...</td>\n",
       "      <td>IncorrectAlertLogic</td>\n",
       "    </tr>\n",
       "    <tr>\n",
       "      <th>9/20/2024, 9:50:07.224 PM</th>\n",
       "      <td>User logged in outside of Finland</td>\n",
       "      <td>The user has logged in outside of Finland, whi...</td>\n",
       "      <td>Medium</td>\n",
       "      <td>Closed</td>\n",
       "      <td>BenignPositive</td>\n",
       "      <td>The user Emilia has logged in from Sweden (SE)...</td>\n",
       "      <td>SuspiciousButExpected</td>\n",
       "    </tr>\n",
       "    <tr>\n",
       "      <th>9/20/2024, 10:05:13.309 PM</th>\n",
       "      <td>User logged in outside of Finland</td>\n",
       "      <td>The user has logged in outside of Finland, whi...</td>\n",
       "      <td>Medium</td>\n",
       "      <td>Closed</td>\n",
       "      <td>TruePositive</td>\n",
       "      <td>The user Emilia was logged in from Singapore (...</td>\n",
       "      <td>SuspiciousActivity</td>\n",
       "    </tr>\n",
       "  </tbody>\n",
       "</table>\n",
       "</div>"
      ],
      "text/plain": [
       "                                                        Title  \\\n",
       "9/20/2024, 9:17:53.315 PM   User logged in outside of Finland   \n",
       "9/20/2024, 9:57:55.832 PM   User logged in outside of Finland   \n",
       "9/20/2024, 10:01:28.594 PM  User logged in outside of Finland   \n",
       "9/20/2024, 5:52:46.107 PM   User logged in outside of Finland   \n",
       "9/20/2024, 6:25:39.463 PM   User logged in outside of Finland   \n",
       "9/20/2024, 9:55:44.910 PM   User logged in outside of Finland   \n",
       "9/13/2024, 7:41:25.205 PM   User logged in outside of Finland   \n",
       "9/13/2024, 7:43:01.781 PM   User logged in outside of Finland   \n",
       "9/13/2024, 7:44:10.136 PM   User logged in outside of Finland   \n",
       "9/20/2024, 9:39:44.653 PM   User logged in outside of Finland   \n",
       "9/20/2024, 5:27:12.302 PM   User logged in outside of Finland   \n",
       "9/20/2024, 9:50:07.224 PM   User logged in outside of Finland   \n",
       "9/20/2024, 10:05:13.309 PM  User logged in outside of Finland   \n",
       "\n",
       "                                                                  Description  \\\n",
       "9/20/2024, 9:17:53.315 PM   The user has logged in outside of Finland, whi...   \n",
       "9/20/2024, 9:57:55.832 PM   The user has logged in outside of Finland, whi...   \n",
       "9/20/2024, 10:01:28.594 PM  The user has logged in outside of Finland, whi...   \n",
       "9/20/2024, 5:52:46.107 PM   The user has logged in outside of Finland, whi...   \n",
       "9/20/2024, 6:25:39.463 PM   The user has logged in outside of Finland, whi...   \n",
       "9/20/2024, 9:55:44.910 PM   The user has logged in outside of Finland, whi...   \n",
       "9/13/2024, 7:41:25.205 PM   The user has logged in outside of Finland, whi...   \n",
       "9/13/2024, 7:43:01.781 PM   The user has logged in outside of Finland, whi...   \n",
       "9/13/2024, 7:44:10.136 PM   The user has logged in outside of Finland, whi...   \n",
       "9/20/2024, 9:39:44.653 PM   The user has logged in outside of Finland, whi...   \n",
       "9/20/2024, 5:27:12.302 PM   The user has logged in outside of Finland, whi...   \n",
       "9/20/2024, 9:50:07.224 PM   The user has logged in outside of Finland, whi...   \n",
       "9/20/2024, 10:05:13.309 PM  The user has logged in outside of Finland, whi...   \n",
       "\n",
       "                           Severity  Status  Classification  \\\n",
       "9/20/2024, 9:17:53.315 PM    Medium  Closed    TruePositive   \n",
       "9/20/2024, 9:57:55.832 PM    Medium  Closed  BenignPositive   \n",
       "9/20/2024, 10:01:28.594 PM   Medium  Closed  BenignPositive   \n",
       "9/20/2024, 5:52:46.107 PM    Medium  Closed   FalsePositive   \n",
       "9/20/2024, 6:25:39.463 PM    Medium  Closed    TruePositive   \n",
       "9/20/2024, 9:55:44.910 PM    Medium  Closed  BenignPositive   \n",
       "9/13/2024, 7:41:25.205 PM    Medium  Closed    TruePositive   \n",
       "9/13/2024, 7:43:01.781 PM    Medium  Closed  BenignPositive   \n",
       "9/13/2024, 7:44:10.136 PM    Medium  Closed  BenignPositive   \n",
       "9/20/2024, 9:39:44.653 PM    Medium  Closed  BenignPositive   \n",
       "9/20/2024, 5:27:12.302 PM    Medium  Closed   FalsePositive   \n",
       "9/20/2024, 9:50:07.224 PM    Medium  Closed  BenignPositive   \n",
       "9/20/2024, 10:05:13.309 PM   Medium  Closed    TruePositive   \n",
       "\n",
       "                                                        ClassificationComment  \\\n",
       "9/20/2024, 9:17:53.315 PM   Joel logged from Japan to Azure Portal from th...   \n",
       "9/20/2024, 9:57:55.832 PM   The user Lauri logged in from Denmark from the...   \n",
       "9/20/2024, 10:01:28.594 PM  The user Amélie was logged in from Denmark (DE...   \n",
       "9/20/2024, 5:52:46.107 PM   Bill logged in from Norway (NO) to Azure Porta...   \n",
       "9/20/2024, 6:25:39.463 PM   ill logged from Singapore to Azure Portal from...   \n",
       "9/20/2024, 9:55:44.910 PM   The user Emilia was logged in from Sweden. Thi...   \n",
       "9/13/2024, 7:41:25.205 PM   The user Joel has logged in successfully with ...   \n",
       "9/13/2024, 7:43:01.781 PM   The user \"Bill Hader\" has logged in from Unite...   \n",
       "9/13/2024, 7:44:10.136 PM   The user \"Bill Hader\" has logged in from Unite...   \n",
       "9/20/2024, 9:39:44.653 PM   The user Amélie logged in from Belgium. This w...   \n",
       "9/20/2024, 5:27:12.302 PM   Joel logged in from Italy (IT) to Azure Portal...   \n",
       "9/20/2024, 9:50:07.224 PM   The user Emilia has logged in from Sweden (SE)...   \n",
       "9/20/2024, 10:05:13.309 PM  The user Emilia was logged in from Singapore (...   \n",
       "\n",
       "                             ClassificationReason  \n",
       "9/20/2024, 9:17:53.315 PM      SuspiciousActivity  \n",
       "9/20/2024, 9:57:55.832 PM   SuspiciousButExpected  \n",
       "9/20/2024, 10:01:28.594 PM  SuspiciousButExpected  \n",
       "9/20/2024, 5:52:46.107 PM     IncorrectAlertLogic  \n",
       "9/20/2024, 6:25:39.463 PM      SuspiciousActivity  \n",
       "9/20/2024, 9:55:44.910 PM   SuspiciousButExpected  \n",
       "9/13/2024, 7:41:25.205 PM      SuspiciousActivity  \n",
       "9/13/2024, 7:43:01.781 PM   SuspiciousButExpected  \n",
       "9/13/2024, 7:44:10.136 PM   SuspiciousButExpected  \n",
       "9/20/2024, 9:39:44.653 PM   SuspiciousButExpected  \n",
       "9/20/2024, 5:27:12.302 PM     IncorrectAlertLogic  \n",
       "9/20/2024, 9:50:07.224 PM   SuspiciousButExpected  \n",
       "9/20/2024, 10:05:13.309 PM     SuspiciousActivity  "
      ]
     },
     "execution_count": 2,
     "metadata": {},
     "output_type": "execute_result"
    }
   ],
   "source": [
    "y"
   ]
  },
  {
   "cell_type": "code",
   "execution_count": 30,
   "id": "626f6699-2e94-4f5d-ae6b-a510d2b97ba1",
   "metadata": {},
   "outputs": [
    {
     "data": {
      "text/plain": [
       "{'AlertName': {'9/20/2024, 2:37:04.892 PM': 'User logged in outside of Finland'},\n",
       " 'AlertSeverity': {'9/20/2024, 2:37:04.892 PM': 'Medium'},\n",
       " 'Description': {'9/20/2024, 2:37:04.892 PM': 'The user has logged in outside of Finland, which is not allowed.'},\n",
       " 'DisplayName': {'9/20/2024, 2:37:04.892 PM': 'Bill Hader'},\n",
       " 'IpAddress': {'9/20/2024, 2:37:04.892 PM': '2a00:1a28:2001::227'},\n",
       " 'Location': {'9/20/2024, 2:37:04.892 PM': '{\\r\\n  \"Location\": [\\r\\n    \"NO\"\\r\\n  ]\\r\\n}'}}"
      ]
     },
     "execution_count": 30,
     "metadata": {},
     "output_type": "execute_result"
    }
   ],
   "source": [
    "dict"
   ]
  },
  {
   "cell_type": "code",
   "execution_count": 39,
   "id": "8a075f58-337d-4760-aa27-965e287ebb99",
   "metadata": {},
   "outputs": [],
   "source": [
    "users = users.to_csv('/data/scratch/exportUsers_2024-9-13.csv')"
   ]
  },
  {
   "cell_type": "code",
   "execution_count": 28,
   "id": "b1c494dd-1134-4718-b88f-5742ba6e934d",
   "metadata": {},
   "outputs": [],
   "source": [
    "users.drop(columns=['Unnamed: 0.13', 'Unnamed: 0.12', 'Unnamed: 0.11', 'Unnamed: 0.10',\n",
    "       'Unnamed: 0.9', 'Unnamed: 0.8', 'Unnamed: 0.7', 'Unnamed: 0.6',\n",
    "       'Unnamed: 0.5', 'Unnamed: 0.4', 'Unnamed: 0.3', 'Unnamed: 0.2',\n",
    "       'Unnamed: 0.1', 'Unnamed: 0'], inplace=True)"
   ]
  },
  {
   "cell_type": "code",
   "execution_count": 38,
   "id": "13577333-aef0-4afe-96fc-e6aad98c8467",
   "metadata": {},
   "outputs": [
    {
     "data": {
      "text/html": [
       "<div>\n",
       "<style scoped>\n",
       "    .dataframe tbody tr th:only-of-type {\n",
       "        vertical-align: middle;\n",
       "    }\n",
       "\n",
       "    .dataframe tbody tr th {\n",
       "        vertical-align: top;\n",
       "    }\n",
       "\n",
       "    .dataframe thead th {\n",
       "        text-align: right;\n",
       "    }\n",
       "</style>\n",
       "<table border=\"1\" class=\"dataframe\">\n",
       "  <thead>\n",
       "    <tr style=\"text-align: right;\">\n",
       "      <th></th>\n",
       "      <th>userPrincipalName</th>\n",
       "      <th>displayName</th>\n",
       "      <th>surname</th>\n",
       "      <th>givenName</th>\n",
       "      <th>id</th>\n",
       "      <th>userType</th>\n",
       "      <th>accountEnabled</th>\n",
       "      <th>usageLocation</th>\n",
       "      <th>streetAddress</th>\n",
       "      <th>state</th>\n",
       "      <th>country</th>\n",
       "      <th>city</th>\n",
       "      <th>postalCode</th>\n",
       "      <th>alternateEmailAddress</th>\n",
       "      <th>identityIssuer</th>\n",
       "      <th>createdDateTime</th>\n",
       "    </tr>\n",
       "  </thead>\n",
       "  <tbody>\n",
       "    <tr>\n",
       "      <th>0</th>\n",
       "      <td>joel@kuhnojkagmail.onmicrosoft.com</td>\n",
       "      <td>Joel Kataja</td>\n",
       "      <td>NaN</td>\n",
       "      <td>NaN</td>\n",
       "      <td>2cb0f342-2959-4e5e-a8d1-d3e7d52773ed</td>\n",
       "      <td>Member</td>\n",
       "      <td>True</td>\n",
       "      <td>FI</td>\n",
       "      <td>NaN</td>\n",
       "      <td>NaN</td>\n",
       "      <td>FI</td>\n",
       "      <td>NaN</td>\n",
       "      <td>NaN</td>\n",
       "      <td>NaN</td>\n",
       "      <td>kuhnojkagmail.onmicrosoft.com</td>\n",
       "      <td>9/12/2024 8:17:21 PM</td>\n",
       "    </tr>\n",
       "    <tr>\n",
       "      <th>1</th>\n",
       "      <td>bill@kuhnojkagmail.onmicrosoft.com</td>\n",
       "      <td>Bill Hader</td>\n",
       "      <td>Hader</td>\n",
       "      <td>Bill</td>\n",
       "      <td>8f34629e-9d63-4a45-b63e-14e95b2d6a76</td>\n",
       "      <td>Member</td>\n",
       "      <td>True</td>\n",
       "      <td>NaN</td>\n",
       "      <td>40 W Main St</td>\n",
       "      <td>New York</td>\n",
       "      <td>USA</td>\n",
       "      <td>Port Jervis</td>\n",
       "      <td>12771.0</td>\n",
       "      <td>NaN</td>\n",
       "      <td>kuhnojkagmail.onmicrosoft.com</td>\n",
       "      <td>9/13/2024 6:45:55 PM</td>\n",
       "    </tr>\n",
       "    <tr>\n",
       "      <th>2</th>\n",
       "      <td>kuhnojka_gmail.com#EXT#@kuhnojkagmail.onmicros...</td>\n",
       "      <td>Jani Kuhno</td>\n",
       "      <td>Kuhno</td>\n",
       "      <td>Jani</td>\n",
       "      <td>b1710b35-fa76-4b4c-bc78-5de00f04df4b</td>\n",
       "      <td>Member</td>\n",
       "      <td>True</td>\n",
       "      <td>FI</td>\n",
       "      <td>NaN</td>\n",
       "      <td>NaN</td>\n",
       "      <td>NaN</td>\n",
       "      <td>NaN</td>\n",
       "      <td>NaN</td>\n",
       "      <td>kuhnojka@gmail.com</td>\n",
       "      <td>Multiple</td>\n",
       "      <td>9/12/2024 7:37:04 PM</td>\n",
       "    </tr>\n",
       "  </tbody>\n",
       "</table>\n",
       "</div>"
      ],
      "text/plain": [
       "                                   userPrincipalName  displayName surname  \\\n",
       "0                 joel@kuhnojkagmail.onmicrosoft.com  Joel Kataja     NaN   \n",
       "1                 bill@kuhnojkagmail.onmicrosoft.com   Bill Hader   Hader   \n",
       "2  kuhnojka_gmail.com#EXT#@kuhnojkagmail.onmicros...   Jani Kuhno   Kuhno   \n",
       "\n",
       "  givenName                                    id userType  accountEnabled  \\\n",
       "0       NaN  2cb0f342-2959-4e5e-a8d1-d3e7d52773ed   Member            True   \n",
       "1      Bill  8f34629e-9d63-4a45-b63e-14e95b2d6a76   Member            True   \n",
       "2      Jani  b1710b35-fa76-4b4c-bc78-5de00f04df4b   Member            True   \n",
       "\n",
       "  usageLocation streetAddress     state country         city  postalCode  \\\n",
       "0            FI           NaN       NaN      FI          NaN         NaN   \n",
       "1           NaN  40 W Main St  New York     USA  Port Jervis     12771.0   \n",
       "2            FI           NaN       NaN     NaN          NaN         NaN   \n",
       "\n",
       "  alternateEmailAddress                 identityIssuer       createdDateTime  \n",
       "0                   NaN  kuhnojkagmail.onmicrosoft.com  9/12/2024 8:17:21 PM  \n",
       "1                   NaN  kuhnojkagmail.onmicrosoft.com  9/13/2024 6:45:55 PM  \n",
       "2    kuhnojka@gmail.com                       Multiple  9/12/2024 7:37:04 PM  "
      ]
     },
     "execution_count": 38,
     "metadata": {},
     "output_type": "execute_result"
    }
   ],
   "source": [
    "users.head()"
   ]
  },
  {
   "cell_type": "code",
   "execution_count": 40,
   "id": "d2c6ec91-4052-4506-b905-ff324217f401",
   "metadata": {},
   "outputs": [],
   "source": [
    "paths = {\n",
    "    \"sample_inputs_path\": \"/data/scratch/sample_input/\",\n",
    "    \"closed_incidents\": \"/data/scratch/Closed Incidents/Closed_Incidents_1.csv\",\n",
    "    \"user_info\": \"/data/scratch/exportUsers_2024-9-13.csv\"\n",
    "}\n",
    "\n",
    "sample_inputs = {\n",
    "    \"Bill_CA\": {\n",
    "        \"name\": \"Bill_CA\",\n",
    "        \"filename\": \"LoginOutsideFinland_Bill_CA.csv\"\n",
    "    },\n",
    "    \"Bill_US\": {\n",
    "        \"name\": \"Bill_US\",\n",
    "        \"filename\": \"LoginOutsideFinland_Bill_US.csv'\"\n",
    "    },\n",
    "    \"Joel_CA\": {\n",
    "        \"name\": \"Joel_CA\",\n",
    "        \"filename\": \"LoginOutsideFinland_Joel.csv.csv'\"\n",
    "    }\n",
    "}\n",
    "\n",
    "dummy_incident_list = [value.get(\"name\") for value in sample_inputs.values()]"
   ]
  },
  {
   "cell_type": "code",
   "execution_count": 42,
   "id": "86d5d2da-a33a-459b-859f-734598278484",
   "metadata": {},
   "outputs": [
    {
     "data": {
      "text/plain": [
       "['Bill_CA', 'Bill_US', 'Joel_CA']"
      ]
     },
     "execution_count": 42,
     "metadata": {},
     "output_type": "execute_result"
    }
   ],
   "source": [
    "dummy_incident_list"
   ]
  },
  {
   "cell_type": "code",
   "execution_count": 43,
   "id": "2a9f1d88-1dd0-404e-be81-b2fee2ff4780",
   "metadata": {},
   "outputs": [
    {
     "data": {
      "text/plain": [
       "'/data/scratch/sample_input/LoginOutsideFinland_Bill_CA.csv'"
      ]
     },
     "execution_count": 43,
     "metadata": {},
     "output_type": "execute_result"
    }
   ],
   "source": [
    "paths[\"sample_inputs_path\"] + sample_inputs[\"Bill_CA\"][\"filename\"]"
   ]
  },
  {
   "cell_type": "code",
   "execution_count": 44,
   "id": "44ed418c-da40-40d5-ab7f-14afea96f568",
   "metadata": {},
   "outputs": [],
   "source": [
    "def get_dummy_input(input_name):\n",
    "    # Check if the input exists in the dictionary\n",
    "    if input_name in sample_inputs:\n",
    "        # Get the corresponding filename\n",
    "        filename = sample_inputs[input_name][\"filename\"]\n",
    "        # Load the file using CSVLoader and return the result\n",
    "        return f'/data/scratch/sample_input/{filename}'\n",
    "    else:\n",
    "        raise ValueError(f\"Invalid input name: {input_name}\")"
   ]
  },
  {
   "cell_type": "code",
   "execution_count": 51,
   "id": "b8811f8e-96d9-4868-af68-4ab8890ad66f",
   "metadata": {},
   "outputs": [
    {
     "data": {
      "text/plain": [
       "\"/data/scratch/sample_input/LoginOutsideFinland_Bill_US.csv'\""
      ]
     },
     "execution_count": 51,
     "metadata": {},
     "output_type": "execute_result"
    }
   ],
   "source": [
    "filename = sample_inputs['Bill_US'][\"filename\"]\n",
    "f'{paths[\"sample_inputs_path\"]}{filename}'"
   ]
  },
  {
   "cell_type": "code",
   "execution_count": 35,
   "id": "437d3fd3-eab5-4ad3-aee7-6d731c771098",
   "metadata": {},
   "outputs": [],
   "source": [
    "def x(alert_name):\n",
    "    alerts = {\n",
    "        \"Bill CA (True Positive)\": {\n",
    "            \"name\": \"Bill CA (True Positive)\",\n",
    "            \"df\": pd.DataFrame()\n",
    "        },\n",
    "        \"Bill NO (True Positive)\": {\n",
    "            \"name\": \"Bill NO (True Positive)\",\n",
    "            \"df\": pd.DataFrame()\n",
    "        },\n",
    "        \"Bill US (False Positive)\": {\n",
    "            \"name\": \"Bill US (False Positive)\",\n",
    "            \"df\": pd.DataFrame({\"test\": {\"yes\": \"no\"}})\n",
    "        },\n",
    "        \"Joel IT (True Positive)\": {\n",
    "            \"name\": \"Joel IT (True Positive)\",\n",
    "            \"df\": pd.DataFrame()\n",
    "        },\n",
    "        \"Joel CA (True Positive)\": {\n",
    "            \"name\": \"Joel CA (True Positive)\",\n",
    "            \"df\": pd.DataFrame()\n",
    "        },\n",
    "    }\n",
    "    if alert_name == \"list\":\n",
    "        return list(alerts.keys())\n",
    "    elif alert_name in alerts:\n",
    "        return alerts[alert_name][\"df\"]"
   ]
  },
  {
   "cell_type": "code",
   "execution_count": 2,
   "id": "a52a63c7-699a-4c9c-b88f-5ece952a0bd8",
   "metadata": {},
   "outputs": [],
   "source": [
    "import test_data as td\n",
    "x = td.get_sample_alerts('Joel CA (True Positive)')"
   ]
  },
  {
   "cell_type": "code",
   "execution_count": 5,
   "id": "d2a36143-7c4c-4f61-b417-a9b8ea387d11",
   "metadata": {},
   "outputs": [],
   "source": [
    "bill_ca = CSVLoader(file_path='/data/test/sample_input/LoginOutsideFinland_Bill_CA.csv').load()[0]"
   ]
  },
  {
   "cell_type": "code",
   "execution_count": 3,
   "id": "3ca7533b-f246-406f-9136-b30fd10dbfea",
   "metadata": {},
   "outputs": [],
   "source": [
    "def get_dummy_users(output_type = \"Document\"):\n",
    "    users = td.get_sample_users()\n",
    "    if output_type == \"Document\":\n",
    "        users.to_csv('/data/tmp/users.csv')\n",
    "        return CSVLoader(file_path='/data/tmp/users.csv').load()"
   ]
  },
  {
   "cell_type": "code",
   "execution_count": null,
   "id": "4c2ee72e-f406-469e-a650-f57f0c8e30ff",
   "metadata": {},
   "outputs": [],
   "source": [
    "get_dummy_users(\"Document\")"
   ]
  },
  {
   "cell_type": "code",
   "execution_count": 2,
   "id": "3d4acbbf-7822-4f0b-9455-5421767ed65b",
   "metadata": {},
   "outputs": [
    {
     "name": "stderr",
     "output_type": "stream",
     "text": [
      "/home/workbench/.local/lib/python3.10/site-packages/tqdm/auto.py:21: TqdmWarning: IProgress not found. Please update jupyter and ipywidgets. See https://ipywidgets.readthedocs.io/en/stable/user_install.html\n",
      "  from .autonotebook import tqdm as notebook_tqdm\n"
     ]
    }
   ],
   "source": [
    "import gradio as gr"
   ]
  },
  {
   "cell_type": "code",
   "execution_count": 6,
   "id": "6e9ff6bc-7315-4158-9cd9-e97689ff3928",
   "metadata": {},
   "outputs": [
    {
     "name": "stdout",
     "output_type": "stream",
     "text": [
      "Running on local URL:  http://127.0.0.1:7861\n",
      "\n",
      "To create a public link, set `share=True` in `launch()`.\n"
     ]
    },
    {
     "data": {
      "text/html": [
       "<div><iframe src=\"http://127.0.0.1:7861/\" width=\"100%\" height=\"500\" allow=\"autoplay; camera; microphone; clipboard-read; clipboard-write;\" frameborder=\"0\" allowfullscreen></iframe></div>"
      ],
      "text/plain": [
       "<IPython.core.display.HTML object>"
      ]
     },
     "metadata": {},
     "output_type": "display_data"
    },
    {
     "data": {
      "text/plain": []
     },
     "execution_count": 6,
     "metadata": {},
     "output_type": "execute_result"
    }
   ],
   "source": [
    "with gr.Blocks() as app:\n",
    "    input = gr.State()\n",
    "    with gr.Row():\n",
    "        with gr.Column(scale=2):\n",
    "            input_display = gr.Textbox(label=\"Input\", lines=5)\n",
    "            output1 = gr.Textbox(label=\"Output\", lines=5)\n",
    "            output2 = gr.Textbox(label=\"Output2\", lines=5)\n",
    "            generate_btn = gr.Button(\"Generate\")\n",
    "\n",
    "    def initiate_input(input_, x):\n",
    "       \n",
    "       return {\n",
    "           output1: input_,\n",
    "           output2: input,\n",
    "           x: gr.update(value=\"input_\")\n",
    "       }\n",
    "\n",
    "    generate_btn.click(fn=initiate_input, inputs=[input_display, input], outputs=[output1, output2, input])\n",
    "app.launch()"
   ]
  },
  {
   "cell_type": "code",
   "execution_count": 5,
   "id": "3546918f-de18-4ec4-931e-29f6f58be70b",
   "metadata": {},
   "outputs": [
    {
     "data": {
      "text/plain": [
       "<gradio.components.state.State at 0x7efdc03c3220>"
      ]
     },
     "execution_count": 5,
     "metadata": {},
     "output_type": "execute_result"
    }
   ],
   "source": [
    "input"
   ]
  }
 ],
 "metadata": {
  "kernelspec": {
   "display_name": "Python 3 (ipykernel)",
   "language": "python",
   "name": "python3"
  },
  "language_info": {
   "codemirror_mode": {
    "name": "ipython",
    "version": 3
   },
   "file_extension": ".py",
   "mimetype": "text/x-python",
   "name": "python",
   "nbconvert_exporter": "python",
   "pygments_lexer": "ipython3",
   "version": "3.10.12"
  }
 },
 "nbformat": 4,
 "nbformat_minor": 5
}
