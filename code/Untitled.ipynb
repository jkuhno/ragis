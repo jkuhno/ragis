{
 "cells": [
  {
   "cell_type": "code",
   "execution_count": 1,
   "id": "d5ce3800-40db-4e63-a6cf-39ec25fa8b34",
   "metadata": {},
   "outputs": [],
   "source": [
    "import pandas as pd\n",
    "from langchain_community.document_loaders import CSVLoader\n",
    "\n",
    "from langchain.text_splitter import RecursiveCharacterTextSplitter"
   ]
  },
  {
   "cell_type": "code",
   "execution_count": 2,
   "id": "2bb3e170-d392-4df8-8914-ae48aeb3ca94",
   "metadata": {},
   "outputs": [],
   "source": [
    "from langchain_community.vectorstores import Chroma\n",
    "from langchain_nvidia_ai_endpoints import NVIDIAEmbeddings\n",
    "from langchain.prompts import PromptTemplate\n",
    "from langchain_nvidia_ai_endpoints import ChatNVIDIA\n",
    "from langchain_core.output_parsers import JsonOutputParser\n",
    "from langchain_core.output_parsers import StrOutputParser"
   ]
  },
  {
   "cell_type": "code",
   "execution_count": 1,
   "id": "e6996ba1-33c6-4b69-ba98-f25ef96ff7aa",
   "metadata": {},
   "outputs": [
    {
     "name": "stdout",
     "output_type": "stream",
     "text": [
      "[1, 2, 3, 4, 1, 2, 3, 4, 5, 6]\n"
     ]
    }
   ],
   "source": [
    "x = [1, 2, 3, 4]\n",
    "y = [1, 2, 3, 4, 5, 6]\n",
    "\n",
    "z = x + y\n",
    "\n",
    "print(z)"
   ]
  },
  {
   "cell_type": "code",
   "execution_count": 1,
   "id": "e0af5bab-7c59-48a3-86a3-f3979512d37a",
   "metadata": {},
   "outputs": [],
   "source": [
    "dict = {\n",
    "    \"name\": \"joel\",\n",
    "    \"age\": 24\n",
    "}"
   ]
  },
  {
   "cell_type": "code",
   "execution_count": 2,
   "id": "83c30dee-5088-4070-adac-ab10c6be90a6",
   "metadata": {},
   "outputs": [
    {
     "data": {
      "text/plain": [
       "{'name': 'joel', 'age': 24}"
      ]
     },
     "execution_count": 2,
     "metadata": {},
     "output_type": "execute_result"
    }
   ],
   "source": [
    "dict"
   ]
  },
  {
   "cell_type": "code",
   "execution_count": 9,
   "id": "f49d8e78-5958-4982-b868-a09695457b53",
   "metadata": {},
   "outputs": [],
   "source": [
    "import rag_module as rag"
   ]
  },
  {
   "cell_type": "code",
   "execution_count": 8,
   "id": "531e4cdb-27b3-45b0-921e-2f51b481942e",
   "metadata": {},
   "outputs": [
    {
     "name": "stdout",
     "output_type": "stream",
     "text": [
      "page_content='﻿\"TimeGenerated [Local Time]\": 9/13/2024, 11:02:10.113 PM\n",
      "AlertName: User logged in outside of Finland\n",
      "AlertSeverity: Medium\n",
      "Description: The user has logged in outside of Finland, which is not allowed.\n",
      "DisplayName: Bill Hader\n",
      "IpAddress: 2607:f0d0:3601:3b::7\n",
      "Location: CA' metadata={'source': '/data/scratch/sample_input/LoginOutsideFinland_Bill_CA.csv', 'row': 0}\n"
     ]
    }
   ],
   "source": [
    "print(rag_module.bill_ca)"
   ]
  },
  {
   "cell_type": "code",
   "execution_count": null,
   "id": "5040850a-8d0f-4db1-bd64-0d54b4a78c8a",
   "metadata": {},
   "outputs": [],
   "source": [
    "closed = pd.read_csv('/data/test/data/users/exportUsers.csv', index_col=[0])\n",
    "closed = closed.dropna(axis=1, how=\"all\")\n",
    "#closed = closed.fillna(\"placeholder\")\n",
    "#closed.drop(columns=[\"Unnamed: 0\"], inplace=True)\n",
    "#users = users.to_csv('/data/scratch/exportUsers_2024-9-13.csv')\n",
    "dict = closed.to_dict()\n",
    "dict"
   ]
  },
  {
   "cell_type": "code",
   "execution_count": 29,
   "id": "a0b22186-ddc0-4a02-9d34-edf9b7fa1f4a",
   "metadata": {},
   "outputs": [],
   "source": []
  },
  {
   "cell_type": "code",
   "execution_count": 9,
   "id": "4e8418e5-064f-423d-a104-1e16385879b2",
   "metadata": {},
   "outputs": [],
   "source": [
    "df = pd.DataFrame(dict)\n"
   ]
  },
  {
   "cell_type": "code",
   "execution_count": 39,
   "id": "538a2259-4702-44cb-8b61-8f19da8ff22b",
   "metadata": {},
   "outputs": [],
   "source": [
    "import test_data as td\n",
    "y = td.get_sample_alert()\n"
   ]
  },
  {
   "cell_type": "code",
   "execution_count": 2,
   "id": "10fa9693-469a-479b-a7e4-b8786a1de458",
   "metadata": {},
   "outputs": [
    {
     "data": {
      "text/html": [
       "<div>\n",
       "<style scoped>\n",
       "    .dataframe tbody tr th:only-of-type {\n",
       "        vertical-align: middle;\n",
       "    }\n",
       "\n",
       "    .dataframe tbody tr th {\n",
       "        vertical-align: top;\n",
       "    }\n",
       "\n",
       "    .dataframe thead th {\n",
       "        text-align: right;\n",
       "    }\n",
       "</style>\n",
       "<table border=\"1\" class=\"dataframe\">\n",
       "  <thead>\n",
       "    <tr style=\"text-align: right;\">\n",
       "      <th></th>\n",
       "      <th>Title</th>\n",
       "      <th>Description</th>\n",
       "      <th>Severity</th>\n",
       "      <th>Status</th>\n",
       "      <th>Classification</th>\n",
       "      <th>ClassificationComment</th>\n",
       "      <th>ClassificationReason</th>\n",
       "    </tr>\n",
       "  </thead>\n",
       "  <tbody>\n",
       "    <tr>\n",
       "      <th>9/20/2024, 9:17:53.315 PM</th>\n",
       "      <td>User logged in outside of Finland</td>\n",
       "      <td>The user has logged in outside of Finland, whi...</td>\n",
       "      <td>Medium</td>\n",
       "      <td>Closed</td>\n",
       "      <td>TruePositive</td>\n",
       "      <td>Joel logged from Japan to Azure Portal from th...</td>\n",
       "      <td>SuspiciousActivity</td>\n",
       "    </tr>\n",
       "    <tr>\n",
       "      <th>9/20/2024, 9:57:55.832 PM</th>\n",
       "      <td>User logged in outside of Finland</td>\n",
       "      <td>The user has logged in outside of Finland, whi...</td>\n",
       "      <td>Medium</td>\n",
       "      <td>Closed</td>\n",
       "      <td>BenignPositive</td>\n",
       "      <td>The user Lauri logged in from Denmark from the...</td>\n",
       "      <td>SuspiciousButExpected</td>\n",
       "    </tr>\n",
       "    <tr>\n",
       "      <th>9/20/2024, 10:01:28.594 PM</th>\n",
       "      <td>User logged in outside of Finland</td>\n",
       "      <td>The user has logged in outside of Finland, whi...</td>\n",
       "      <td>Medium</td>\n",
       "      <td>Closed</td>\n",
       "      <td>BenignPositive</td>\n",
       "      <td>The user Amélie was logged in from Denmark (DE...</td>\n",
       "      <td>SuspiciousButExpected</td>\n",
       "    </tr>\n",
       "    <tr>\n",
       "      <th>9/20/2024, 5:52:46.107 PM</th>\n",
       "      <td>User logged in outside of Finland</td>\n",
       "      <td>The user has logged in outside of Finland, whi...</td>\n",
       "      <td>Medium</td>\n",
       "      <td>Closed</td>\n",
       "      <td>FalsePositive</td>\n",
       "      <td>Bill logged in from Norway (NO) to Azure Porta...</td>\n",
       "      <td>IncorrectAlertLogic</td>\n",
       "    </tr>\n",
       "    <tr>\n",
       "      <th>9/20/2024, 6:25:39.463 PM</th>\n",
       "      <td>User logged in outside of Finland</td>\n",
       "      <td>The user has logged in outside of Finland, whi...</td>\n",
       "      <td>Medium</td>\n",
       "      <td>Closed</td>\n",
       "      <td>TruePositive</td>\n",
       "      <td>ill logged from Singapore to Azure Portal from...</td>\n",
       "      <td>SuspiciousActivity</td>\n",
       "    </tr>\n",
       "    <tr>\n",
       "      <th>9/20/2024, 9:55:44.910 PM</th>\n",
       "      <td>User logged in outside of Finland</td>\n",
       "      <td>The user has logged in outside of Finland, whi...</td>\n",
       "      <td>Medium</td>\n",
       "      <td>Closed</td>\n",
       "      <td>BenignPositive</td>\n",
       "      <td>The user Emilia was logged in from Sweden. Thi...</td>\n",
       "      <td>SuspiciousButExpected</td>\n",
       "    </tr>\n",
       "    <tr>\n",
       "      <th>9/13/2024, 7:41:25.205 PM</th>\n",
       "      <td>User logged in outside of Finland</td>\n",
       "      <td>The user has logged in outside of Finland, whi...</td>\n",
       "      <td>Medium</td>\n",
       "      <td>Closed</td>\n",
       "      <td>TruePositive</td>\n",
       "      <td>The user Joel has logged in successfully with ...</td>\n",
       "      <td>SuspiciousActivity</td>\n",
       "    </tr>\n",
       "    <tr>\n",
       "      <th>9/13/2024, 7:43:01.781 PM</th>\n",
       "      <td>User logged in outside of Finland</td>\n",
       "      <td>The user has logged in outside of Finland, whi...</td>\n",
       "      <td>Medium</td>\n",
       "      <td>Closed</td>\n",
       "      <td>BenignPositive</td>\n",
       "      <td>The user \"Bill Hader\" has logged in from Unite...</td>\n",
       "      <td>SuspiciousButExpected</td>\n",
       "    </tr>\n",
       "    <tr>\n",
       "      <th>9/13/2024, 7:44:10.136 PM</th>\n",
       "      <td>User logged in outside of Finland</td>\n",
       "      <td>The user has logged in outside of Finland, whi...</td>\n",
       "      <td>Medium</td>\n",
       "      <td>Closed</td>\n",
       "      <td>BenignPositive</td>\n",
       "      <td>The user \"Bill Hader\" has logged in from Unite...</td>\n",
       "      <td>SuspiciousButExpected</td>\n",
       "    </tr>\n",
       "    <tr>\n",
       "      <th>9/20/2024, 9:39:44.653 PM</th>\n",
       "      <td>User logged in outside of Finland</td>\n",
       "      <td>The user has logged in outside of Finland, whi...</td>\n",
       "      <td>Medium</td>\n",
       "      <td>Closed</td>\n",
       "      <td>BenignPositive</td>\n",
       "      <td>The user Amélie logged in from Belgium. This w...</td>\n",
       "      <td>SuspiciousButExpected</td>\n",
       "    </tr>\n",
       "    <tr>\n",
       "      <th>9/20/2024, 5:27:12.302 PM</th>\n",
       "      <td>User logged in outside of Finland</td>\n",
       "      <td>The user has logged in outside of Finland, whi...</td>\n",
       "      <td>Medium</td>\n",
       "      <td>Closed</td>\n",
       "      <td>FalsePositive</td>\n",
       "      <td>Joel logged in from Italy (IT) to Azure Portal...</td>\n",
       "      <td>IncorrectAlertLogic</td>\n",
       "    </tr>\n",
       "    <tr>\n",
       "      <th>9/20/2024, 9:50:07.224 PM</th>\n",
       "      <td>User logged in outside of Finland</td>\n",
       "      <td>The user has logged in outside of Finland, whi...</td>\n",
       "      <td>Medium</td>\n",
       "      <td>Closed</td>\n",
       "      <td>BenignPositive</td>\n",
       "      <td>The user Emilia has logged in from Sweden (SE)...</td>\n",
       "      <td>SuspiciousButExpected</td>\n",
       "    </tr>\n",
       "    <tr>\n",
       "      <th>9/20/2024, 10:05:13.309 PM</th>\n",
       "      <td>User logged in outside of Finland</td>\n",
       "      <td>The user has logged in outside of Finland, whi...</td>\n",
       "      <td>Medium</td>\n",
       "      <td>Closed</td>\n",
       "      <td>TruePositive</td>\n",
       "      <td>The user Emilia was logged in from Singapore (...</td>\n",
       "      <td>SuspiciousActivity</td>\n",
       "    </tr>\n",
       "  </tbody>\n",
       "</table>\n",
       "</div>"
      ],
      "text/plain": [
       "                                                        Title  \\\n",
       "9/20/2024, 9:17:53.315 PM   User logged in outside of Finland   \n",
       "9/20/2024, 9:57:55.832 PM   User logged in outside of Finland   \n",
       "9/20/2024, 10:01:28.594 PM  User logged in outside of Finland   \n",
       "9/20/2024, 5:52:46.107 PM   User logged in outside of Finland   \n",
       "9/20/2024, 6:25:39.463 PM   User logged in outside of Finland   \n",
       "9/20/2024, 9:55:44.910 PM   User logged in outside of Finland   \n",
       "9/13/2024, 7:41:25.205 PM   User logged in outside of Finland   \n",
       "9/13/2024, 7:43:01.781 PM   User logged in outside of Finland   \n",
       "9/13/2024, 7:44:10.136 PM   User logged in outside of Finland   \n",
       "9/20/2024, 9:39:44.653 PM   User logged in outside of Finland   \n",
       "9/20/2024, 5:27:12.302 PM   User logged in outside of Finland   \n",
       "9/20/2024, 9:50:07.224 PM   User logged in outside of Finland   \n",
       "9/20/2024, 10:05:13.309 PM  User logged in outside of Finland   \n",
       "\n",
       "                                                                  Description  \\\n",
       "9/20/2024, 9:17:53.315 PM   The user has logged in outside of Finland, whi...   \n",
       "9/20/2024, 9:57:55.832 PM   The user has logged in outside of Finland, whi...   \n",
       "9/20/2024, 10:01:28.594 PM  The user has logged in outside of Finland, whi...   \n",
       "9/20/2024, 5:52:46.107 PM   The user has logged in outside of Finland, whi...   \n",
       "9/20/2024, 6:25:39.463 PM   The user has logged in outside of Finland, whi...   \n",
       "9/20/2024, 9:55:44.910 PM   The user has logged in outside of Finland, whi...   \n",
       "9/13/2024, 7:41:25.205 PM   The user has logged in outside of Finland, whi...   \n",
       "9/13/2024, 7:43:01.781 PM   The user has logged in outside of Finland, whi...   \n",
       "9/13/2024, 7:44:10.136 PM   The user has logged in outside of Finland, whi...   \n",
       "9/20/2024, 9:39:44.653 PM   The user has logged in outside of Finland, whi...   \n",
       "9/20/2024, 5:27:12.302 PM   The user has logged in outside of Finland, whi...   \n",
       "9/20/2024, 9:50:07.224 PM   The user has logged in outside of Finland, whi...   \n",
       "9/20/2024, 10:05:13.309 PM  The user has logged in outside of Finland, whi...   \n",
       "\n",
       "                           Severity  Status  Classification  \\\n",
       "9/20/2024, 9:17:53.315 PM    Medium  Closed    TruePositive   \n",
       "9/20/2024, 9:57:55.832 PM    Medium  Closed  BenignPositive   \n",
       "9/20/2024, 10:01:28.594 PM   Medium  Closed  BenignPositive   \n",
       "9/20/2024, 5:52:46.107 PM    Medium  Closed   FalsePositive   \n",
       "9/20/2024, 6:25:39.463 PM    Medium  Closed    TruePositive   \n",
       "9/20/2024, 9:55:44.910 PM    Medium  Closed  BenignPositive   \n",
       "9/13/2024, 7:41:25.205 PM    Medium  Closed    TruePositive   \n",
       "9/13/2024, 7:43:01.781 PM    Medium  Closed  BenignPositive   \n",
       "9/13/2024, 7:44:10.136 PM    Medium  Closed  BenignPositive   \n",
       "9/20/2024, 9:39:44.653 PM    Medium  Closed  BenignPositive   \n",
       "9/20/2024, 5:27:12.302 PM    Medium  Closed   FalsePositive   \n",
       "9/20/2024, 9:50:07.224 PM    Medium  Closed  BenignPositive   \n",
       "9/20/2024, 10:05:13.309 PM   Medium  Closed    TruePositive   \n",
       "\n",
       "                                                        ClassificationComment  \\\n",
       "9/20/2024, 9:17:53.315 PM   Joel logged from Japan to Azure Portal from th...   \n",
       "9/20/2024, 9:57:55.832 PM   The user Lauri logged in from Denmark from the...   \n",
       "9/20/2024, 10:01:28.594 PM  The user Amélie was logged in from Denmark (DE...   \n",
       "9/20/2024, 5:52:46.107 PM   Bill logged in from Norway (NO) to Azure Porta...   \n",
       "9/20/2024, 6:25:39.463 PM   ill logged from Singapore to Azure Portal from...   \n",
       "9/20/2024, 9:55:44.910 PM   The user Emilia was logged in from Sweden. Thi...   \n",
       "9/13/2024, 7:41:25.205 PM   The user Joel has logged in successfully with ...   \n",
       "9/13/2024, 7:43:01.781 PM   The user \"Bill Hader\" has logged in from Unite...   \n",
       "9/13/2024, 7:44:10.136 PM   The user \"Bill Hader\" has logged in from Unite...   \n",
       "9/20/2024, 9:39:44.653 PM   The user Amélie logged in from Belgium. This w...   \n",
       "9/20/2024, 5:27:12.302 PM   Joel logged in from Italy (IT) to Azure Portal...   \n",
       "9/20/2024, 9:50:07.224 PM   The user Emilia has logged in from Sweden (SE)...   \n",
       "9/20/2024, 10:05:13.309 PM  The user Emilia was logged in from Singapore (...   \n",
       "\n",
       "                             ClassificationReason  \n",
       "9/20/2024, 9:17:53.315 PM      SuspiciousActivity  \n",
       "9/20/2024, 9:57:55.832 PM   SuspiciousButExpected  \n",
       "9/20/2024, 10:01:28.594 PM  SuspiciousButExpected  \n",
       "9/20/2024, 5:52:46.107 PM     IncorrectAlertLogic  \n",
       "9/20/2024, 6:25:39.463 PM      SuspiciousActivity  \n",
       "9/20/2024, 9:55:44.910 PM   SuspiciousButExpected  \n",
       "9/13/2024, 7:41:25.205 PM      SuspiciousActivity  \n",
       "9/13/2024, 7:43:01.781 PM   SuspiciousButExpected  \n",
       "9/13/2024, 7:44:10.136 PM   SuspiciousButExpected  \n",
       "9/20/2024, 9:39:44.653 PM   SuspiciousButExpected  \n",
       "9/20/2024, 5:27:12.302 PM     IncorrectAlertLogic  \n",
       "9/20/2024, 9:50:07.224 PM   SuspiciousButExpected  \n",
       "9/20/2024, 10:05:13.309 PM     SuspiciousActivity  "
      ]
     },
     "execution_count": 2,
     "metadata": {},
     "output_type": "execute_result"
    }
   ],
   "source": [
    "y"
   ]
  },
  {
   "cell_type": "code",
   "execution_count": 30,
   "id": "626f6699-2e94-4f5d-ae6b-a510d2b97ba1",
   "metadata": {},
   "outputs": [
    {
     "data": {
      "text/plain": [
       "{'AlertName': {'9/20/2024, 2:37:04.892 PM': 'User logged in outside of Finland'},\n",
       " 'AlertSeverity': {'9/20/2024, 2:37:04.892 PM': 'Medium'},\n",
       " 'Description': {'9/20/2024, 2:37:04.892 PM': 'The user has logged in outside of Finland, which is not allowed.'},\n",
       " 'DisplayName': {'9/20/2024, 2:37:04.892 PM': 'Bill Hader'},\n",
       " 'IpAddress': {'9/20/2024, 2:37:04.892 PM': '2a00:1a28:2001::227'},\n",
       " 'Location': {'9/20/2024, 2:37:04.892 PM': '{\\r\\n  \"Location\": [\\r\\n    \"NO\"\\r\\n  ]\\r\\n}'}}"
      ]
     },
     "execution_count": 30,
     "metadata": {},
     "output_type": "execute_result"
    }
   ],
   "source": [
    "dict"
   ]
  },
  {
   "cell_type": "code",
   "execution_count": 39,
   "id": "8a075f58-337d-4760-aa27-965e287ebb99",
   "metadata": {},
   "outputs": [],
   "source": [
    "users = users.to_csv('/data/scratch/exportUsers_2024-9-13.csv')"
   ]
  },
  {
   "cell_type": "code",
   "execution_count": 28,
   "id": "b1c494dd-1134-4718-b88f-5742ba6e934d",
   "metadata": {},
   "outputs": [],
   "source": [
    "users.drop(columns=['Unnamed: 0.13', 'Unnamed: 0.12', 'Unnamed: 0.11', 'Unnamed: 0.10',\n",
    "       'Unnamed: 0.9', 'Unnamed: 0.8', 'Unnamed: 0.7', 'Unnamed: 0.6',\n",
    "       'Unnamed: 0.5', 'Unnamed: 0.4', 'Unnamed: 0.3', 'Unnamed: 0.2',\n",
    "       'Unnamed: 0.1', 'Unnamed: 0'], inplace=True)"
   ]
  },
  {
   "cell_type": "code",
   "execution_count": 38,
   "id": "13577333-aef0-4afe-96fc-e6aad98c8467",
   "metadata": {},
   "outputs": [
    {
     "data": {
      "text/html": [
       "<div>\n",
       "<style scoped>\n",
       "    .dataframe tbody tr th:only-of-type {\n",
       "        vertical-align: middle;\n",
       "    }\n",
       "\n",
       "    .dataframe tbody tr th {\n",
       "        vertical-align: top;\n",
       "    }\n",
       "\n",
       "    .dataframe thead th {\n",
       "        text-align: right;\n",
       "    }\n",
       "</style>\n",
       "<table border=\"1\" class=\"dataframe\">\n",
       "  <thead>\n",
       "    <tr style=\"text-align: right;\">\n",
       "      <th></th>\n",
       "      <th>userPrincipalName</th>\n",
       "      <th>displayName</th>\n",
       "      <th>surname</th>\n",
       "      <th>givenName</th>\n",
       "      <th>id</th>\n",
       "      <th>userType</th>\n",
       "      <th>accountEnabled</th>\n",
       "      <th>usageLocation</th>\n",
       "      <th>streetAddress</th>\n",
       "      <th>state</th>\n",
       "      <th>country</th>\n",
       "      <th>city</th>\n",
       "      <th>postalCode</th>\n",
       "      <th>alternateEmailAddress</th>\n",
       "      <th>identityIssuer</th>\n",
       "      <th>createdDateTime</th>\n",
       "    </tr>\n",
       "  </thead>\n",
       "  <tbody>\n",
       "    <tr>\n",
       "      <th>0</th>\n",
       "      <td>joel@kuhnojkagmail.onmicrosoft.com</td>\n",
       "      <td>Joel Kataja</td>\n",
       "      <td>NaN</td>\n",
       "      <td>NaN</td>\n",
       "      <td>2cb0f342-2959-4e5e-a8d1-d3e7d52773ed</td>\n",
       "      <td>Member</td>\n",
       "      <td>True</td>\n",
       "      <td>FI</td>\n",
       "      <td>NaN</td>\n",
       "      <td>NaN</td>\n",
       "      <td>FI</td>\n",
       "      <td>NaN</td>\n",
       "      <td>NaN</td>\n",
       "      <td>NaN</td>\n",
       "      <td>kuhnojkagmail.onmicrosoft.com</td>\n",
       "      <td>9/12/2024 8:17:21 PM</td>\n",
       "    </tr>\n",
       "    <tr>\n",
       "      <th>1</th>\n",
       "      <td>bill@kuhnojkagmail.onmicrosoft.com</td>\n",
       "      <td>Bill Hader</td>\n",
       "      <td>Hader</td>\n",
       "      <td>Bill</td>\n",
       "      <td>8f34629e-9d63-4a45-b63e-14e95b2d6a76</td>\n",
       "      <td>Member</td>\n",
       "      <td>True</td>\n",
       "      <td>NaN</td>\n",
       "      <td>40 W Main St</td>\n",
       "      <td>New York</td>\n",
       "      <td>USA</td>\n",
       "      <td>Port Jervis</td>\n",
       "      <td>12771.0</td>\n",
       "      <td>NaN</td>\n",
       "      <td>kuhnojkagmail.onmicrosoft.com</td>\n",
       "      <td>9/13/2024 6:45:55 PM</td>\n",
       "    </tr>\n",
       "    <tr>\n",
       "      <th>2</th>\n",
       "      <td>kuhnojka_gmail.com#EXT#@kuhnojkagmail.onmicros...</td>\n",
       "      <td>Jani Kuhno</td>\n",
       "      <td>Kuhno</td>\n",
       "      <td>Jani</td>\n",
       "      <td>b1710b35-fa76-4b4c-bc78-5de00f04df4b</td>\n",
       "      <td>Member</td>\n",
       "      <td>True</td>\n",
       "      <td>FI</td>\n",
       "      <td>NaN</td>\n",
       "      <td>NaN</td>\n",
       "      <td>NaN</td>\n",
       "      <td>NaN</td>\n",
       "      <td>NaN</td>\n",
       "      <td>kuhnojka@gmail.com</td>\n",
       "      <td>Multiple</td>\n",
       "      <td>9/12/2024 7:37:04 PM</td>\n",
       "    </tr>\n",
       "  </tbody>\n",
       "</table>\n",
       "</div>"
      ],
      "text/plain": [
       "                                   userPrincipalName  displayName surname  \\\n",
       "0                 joel@kuhnojkagmail.onmicrosoft.com  Joel Kataja     NaN   \n",
       "1                 bill@kuhnojkagmail.onmicrosoft.com   Bill Hader   Hader   \n",
       "2  kuhnojka_gmail.com#EXT#@kuhnojkagmail.onmicros...   Jani Kuhno   Kuhno   \n",
       "\n",
       "  givenName                                    id userType  accountEnabled  \\\n",
       "0       NaN  2cb0f342-2959-4e5e-a8d1-d3e7d52773ed   Member            True   \n",
       "1      Bill  8f34629e-9d63-4a45-b63e-14e95b2d6a76   Member            True   \n",
       "2      Jani  b1710b35-fa76-4b4c-bc78-5de00f04df4b   Member            True   \n",
       "\n",
       "  usageLocation streetAddress     state country         city  postalCode  \\\n",
       "0            FI           NaN       NaN      FI          NaN         NaN   \n",
       "1           NaN  40 W Main St  New York     USA  Port Jervis     12771.0   \n",
       "2            FI           NaN       NaN     NaN          NaN         NaN   \n",
       "\n",
       "  alternateEmailAddress                 identityIssuer       createdDateTime  \n",
       "0                   NaN  kuhnojkagmail.onmicrosoft.com  9/12/2024 8:17:21 PM  \n",
       "1                   NaN  kuhnojkagmail.onmicrosoft.com  9/13/2024 6:45:55 PM  \n",
       "2    kuhnojka@gmail.com                       Multiple  9/12/2024 7:37:04 PM  "
      ]
     },
     "execution_count": 38,
     "metadata": {},
     "output_type": "execute_result"
    }
   ],
   "source": [
    "users.head()"
   ]
  },
  {
   "cell_type": "code",
   "execution_count": 40,
   "id": "d2c6ec91-4052-4506-b905-ff324217f401",
   "metadata": {},
   "outputs": [],
   "source": [
    "paths = {\n",
    "    \"sample_inputs_path\": \"/data/scratch/sample_input/\",\n",
    "    \"closed_incidents\": \"/data/scratch/Closed Incidents/Closed_Incidents_1.csv\",\n",
    "    \"user_info\": \"/data/scratch/exportUsers_2024-9-13.csv\"\n",
    "}\n",
    "\n",
    "sample_inputs = {\n",
    "    \"Bill_CA\": {\n",
    "        \"name\": \"Bill_CA\",\n",
    "        \"filename\": \"LoginOutsideFinland_Bill_CA.csv\"\n",
    "    },\n",
    "    \"Bill_US\": {\n",
    "        \"name\": \"Bill_US\",\n",
    "        \"filename\": \"LoginOutsideFinland_Bill_US.csv'\"\n",
    "    },\n",
    "    \"Joel_CA\": {\n",
    "        \"name\": \"Joel_CA\",\n",
    "        \"filename\": \"LoginOutsideFinland_Joel.csv.csv'\"\n",
    "    }\n",
    "}\n",
    "\n",
    "dummy_incident_list = [value.get(\"name\") for value in sample_inputs.values()]"
   ]
  },
  {
   "cell_type": "code",
   "execution_count": 42,
   "id": "86d5d2da-a33a-459b-859f-734598278484",
   "metadata": {},
   "outputs": [
    {
     "data": {
      "text/plain": [
       "['Bill_CA', 'Bill_US', 'Joel_CA']"
      ]
     },
     "execution_count": 42,
     "metadata": {},
     "output_type": "execute_result"
    }
   ],
   "source": [
    "dummy_incident_list"
   ]
  },
  {
   "cell_type": "code",
   "execution_count": 43,
   "id": "2a9f1d88-1dd0-404e-be81-b2fee2ff4780",
   "metadata": {},
   "outputs": [
    {
     "data": {
      "text/plain": [
       "'/data/scratch/sample_input/LoginOutsideFinland_Bill_CA.csv'"
      ]
     },
     "execution_count": 43,
     "metadata": {},
     "output_type": "execute_result"
    }
   ],
   "source": [
    "paths[\"sample_inputs_path\"] + sample_inputs[\"Bill_CA\"][\"filename\"]"
   ]
  },
  {
   "cell_type": "code",
   "execution_count": 44,
   "id": "44ed418c-da40-40d5-ab7f-14afea96f568",
   "metadata": {},
   "outputs": [],
   "source": [
    "def get_dummy_input(input_name):\n",
    "    # Check if the input exists in the dictionary\n",
    "    if input_name in sample_inputs:\n",
    "        # Get the corresponding filename\n",
    "        filename = sample_inputs[input_name][\"filename\"]\n",
    "        # Load the file using CSVLoader and return the result\n",
    "        return f'/data/scratch/sample_input/{filename}'\n",
    "    else:\n",
    "        raise ValueError(f\"Invalid input name: {input_name}\")"
   ]
  },
  {
   "cell_type": "code",
   "execution_count": 51,
   "id": "b8811f8e-96d9-4868-af68-4ab8890ad66f",
   "metadata": {},
   "outputs": [
    {
     "data": {
      "text/plain": [
       "\"/data/scratch/sample_input/LoginOutsideFinland_Bill_US.csv'\""
      ]
     },
     "execution_count": 51,
     "metadata": {},
     "output_type": "execute_result"
    }
   ],
   "source": [
    "filename = sample_inputs['Bill_US'][\"filename\"]\n",
    "f'{paths[\"sample_inputs_path\"]}{filename}'"
   ]
  },
  {
   "cell_type": "code",
   "execution_count": 35,
   "id": "437d3fd3-eab5-4ad3-aee7-6d731c771098",
   "metadata": {},
   "outputs": [],
   "source": [
    "def x(alert_name):\n",
    "    alerts = {\n",
    "        \"Bill CA (True Positive)\": {\n",
    "            \"name\": \"Bill CA (True Positive)\",\n",
    "            \"df\": pd.DataFrame()\n",
    "        },\n",
    "        \"Bill NO (True Positive)\": {\n",
    "            \"name\": \"Bill NO (True Positive)\",\n",
    "            \"df\": pd.DataFrame()\n",
    "        },\n",
    "        \"Bill US (False Positive)\": {\n",
    "            \"name\": \"Bill US (False Positive)\",\n",
    "            \"df\": pd.DataFrame({\"test\": {\"yes\": \"no\"}})\n",
    "        },\n",
    "        \"Joel IT (True Positive)\": {\n",
    "            \"name\": \"Joel IT (True Positive)\",\n",
    "            \"df\": pd.DataFrame()\n",
    "        },\n",
    "        \"Joel CA (True Positive)\": {\n",
    "            \"name\": \"Joel CA (True Positive)\",\n",
    "            \"df\": pd.DataFrame()\n",
    "        },\n",
    "    }\n",
    "    if alert_name == \"list\":\n",
    "        return list(alerts.keys())\n",
    "    elif alert_name in alerts:\n",
    "        return alerts[alert_name][\"df\"]"
   ]
  },
  {
   "cell_type": "code",
   "execution_count": 2,
   "id": "a52a63c7-699a-4c9c-b88f-5ece952a0bd8",
   "metadata": {},
   "outputs": [],
   "source": [
    "import test_data as td\n",
    "x = td.get_sample_alerts('Joel CA (True Positive)')"
   ]
  },
  {
   "cell_type": "code",
   "execution_count": 5,
   "id": "d2a36143-7c4c-4f61-b417-a9b8ea387d11",
   "metadata": {},
   "outputs": [],
   "source": [
    "bill_ca = CSVLoader(file_path='/data/test/sample_input/LoginOutsideFinland_Bill_CA.csv').load()[0]"
   ]
  },
  {
   "cell_type": "code",
   "execution_count": 3,
   "id": "3ca7533b-f246-406f-9136-b30fd10dbfea",
   "metadata": {},
   "outputs": [],
   "source": [
    "def get_dummy_users(output_type = \"Document\"):\n",
    "    users = td.get_sample_users()\n",
    "    if output_type == \"Document\":\n",
    "        users.to_csv('/data/tmp/users.csv')\n",
    "        return CSVLoader(file_path='/data/tmp/users.csv').load()"
   ]
  },
  {
   "cell_type": "code",
   "execution_count": null,
   "id": "4c2ee72e-f406-469e-a650-f57f0c8e30ff",
   "metadata": {},
   "outputs": [],
   "source": [
    "get_dummy_users(\"Document\")"
   ]
  },
  {
   "cell_type": "code",
   "execution_count": 2,
   "id": "3d4acbbf-7822-4f0b-9455-5421767ed65b",
   "metadata": {},
   "outputs": [
    {
     "name": "stderr",
     "output_type": "stream",
     "text": [
      "/home/workbench/.local/lib/python3.10/site-packages/tqdm/auto.py:21: TqdmWarning: IProgress not found. Please update jupyter and ipywidgets. See https://ipywidgets.readthedocs.io/en/stable/user_install.html\n",
      "  from .autonotebook import tqdm as notebook_tqdm\n"
     ]
    }
   ],
   "source": [
    "import gradio as gr"
   ]
  },
  {
   "cell_type": "code",
   "execution_count": 76,
   "id": "3546918f-de18-4ec4-931e-29f6f58be70b",
   "metadata": {},
   "outputs": [],
   "source": [
    "def get_context_from_file(path):\n",
    "    docs = []\n",
    "    for i in path:\n",
    "        df = pd.read_csv(i, index_col=[0])\n",
    "        df = df.dropna(axis=1, how=\"all\")\n",
    "        df.to_csv(i)\n",
    "        docs.append(CSVLoader(file_path=i).load())\n",
    "    return docs"
   ]
  },
  {
   "cell_type": "code",
   "execution_count": 84,
   "id": "99ae41cf-3e23-4574-a5c7-97742d512715",
   "metadata": {},
   "outputs": [],
   "source": [
    "path_list = [\"/data/test/data/Closed Incidents/Closed_Incidents_1.csv\", \"/data/test/data/Closed Incidents/Closed_Incidents_2.csv\"]"
   ]
  },
  {
   "cell_type": "code",
   "execution_count": 85,
   "id": "b174e3ca-6bf4-4ec5-b9f2-8ef513760fdb",
   "metadata": {},
   "outputs": [],
   "source": [
    "docs = get_context_from_file(path_list)"
   ]
  },
  {
   "cell_type": "code",
   "execution_count": 86,
   "id": "f6634377-0040-4ddc-9822-efa14e8bea5e",
   "metadata": {},
   "outputs": [],
   "source": [
    "docs = [j for i in docs for j in i]"
   ]
  },
  {
   "cell_type": "code",
   "execution_count": 32,
   "id": "36e90635-4af2-4d19-8a97-918342539ec0",
   "metadata": {},
   "outputs": [],
   "source": [
    "x = [[1, 2, 3], [1, 2, 3], [1, 2, 3]]"
   ]
  },
  {
   "cell_type": "code",
   "execution_count": 33,
   "id": "dd6cf9da-5dcf-4e68-ba98-6d587766ac79",
   "metadata": {},
   "outputs": [],
   "source": [
    "y = [j for i in x for j in i]"
   ]
  },
  {
   "cell_type": "code",
   "execution_count": 88,
   "id": "5c05fefe-585a-4db5-8c4a-016ee2ad7cb4",
   "metadata": {},
   "outputs": [
    {
     "data": {
      "text/plain": [
       "Document(metadata={'source': '/data/test/data/Closed Incidents/Closed_Incidents_1.csv', 'row': 0}, page_content=': 0\\nTimeGenerated [UTC]: 9/13/2024, 7:43:01.781 PM\\nTitle: User logged in outside of Finland\\nDescription: The user has logged in outside of Finland, which is not allowed.\\nSeverity: Medium\\nStatus: Closed\\nClassification: BenignPositive\\nClassificationComment: The user \"Bill Hader\" has logged in from United States (US). This user is external consultant and works primarily from United States. No further investigation needed.\\nClassificationReason: SuspiciousButExpected')"
      ]
     },
     "execution_count": 88,
     "metadata": {},
     "output_type": "execute_result"
    }
   ],
   "source": [
    "docs[0]\n"
   ]
  },
  {
   "cell_type": "code",
   "execution_count": 89,
   "id": "6a21b67c-7693-43da-af85-d40a753362c9",
   "metadata": {},
   "outputs": [],
   "source": [
    "import test_data "
   ]
  },
  {
   "cell_type": "code",
   "execution_count": 91,
   "id": "93582173-965e-4c7d-858a-ab152302aa89",
   "metadata": {},
   "outputs": [],
   "source": [
    "def get_dummy_users(output_type = \"Document\"):\n",
    "    users = test_data.get_sample_users()\n",
    "    if output_type == \"Document\":\n",
    "        users.to_csv('/data/tmp/users.csv')\n",
    "        return CSVLoader(file_path='/data/tmp/users.csv').load()\n",
    "    elif output_type == \"DataFrame\":\n",
    "        return users"
   ]
  },
  {
   "cell_type": "code",
   "execution_count": 92,
   "id": "f898a99c-6234-4a27-bc6b-c65cad223e5f",
   "metadata": {},
   "outputs": [],
   "source": [
    "dum = get_dummy_users()"
   ]
  },
  {
   "cell_type": "code",
   "execution_count": 93,
   "id": "f524a0f4-2b27-450d-bd21-9cd6fd65729d",
   "metadata": {},
   "outputs": [
    {
     "data": {
      "text/plain": [
       "[Document(metadata={'source': '/data/tmp/users.csv', 'row': 0}, page_content=': joel@kuhnojkagmail.onmicrosoft.com\\ndisplayName: Joel Kataja\\nsurname: \\ngivenName: \\nid: 2cb0f342-2959-4e5e-a8d1-d3e7d52773ed\\nuserType: Member\\njobTitle: \\ndepartment: \\naccountEnabled: True\\nusageLocation: FI\\nstreetAddress: \\nstate: \\ncountry: FI\\ncity: \\npostalCode: \\nalternateEmailAddress: \\nidentityIssuer: kuhnojkagmail.onmicrosoft.com\\ncreatedDateTime: 9/12/2024 8:17:21 PM'),\n",
       " Document(metadata={'source': '/data/tmp/users.csv', 'row': 1}, page_content=': amelie@kuhnojkagmail.onmicrosoft.com\\ndisplayName: Amélie Dupont (EXTERNAL CONSULTANT)\\nsurname: Dupont\\ngivenName: Amélie\\nid: 609183da-b0a8-4e4a-a70e-636018747d08\\nuserType: Member\\njobTitle: Marketing Coordinator\\ndepartment: Digital Marketing\\naccountEnabled: True\\nusageLocation: FR\\nstreetAddress: \\nstate: \\ncountry: FR\\ncity: Paris\\npostalCode: \\nalternateEmailAddress: \\nidentityIssuer: kuhnojkagmail.onmicrosoft.com\\ncreatedDateTime: 9/20/2024 6:53:03 PM'),\n",
       " Document(metadata={'source': '/data/tmp/users.csv', 'row': 2}, page_content=': bill@kuhnojkagmail.onmicrosoft.com\\ndisplayName: Bill Hader\\nsurname: Hader\\ngivenName: Bill\\nid: 8f34629e-9d63-4a45-b63e-14e95b2d6a76\\nuserType: Member\\njobTitle: \\ndepartment: \\naccountEnabled: True\\nusageLocation: \\nstreetAddress: 40 W Main St\\nstate: New York\\ncountry: USA\\ncity: Port Jervis\\npostalCode: 12771.0\\nalternateEmailAddress: \\nidentityIssuer: kuhnojkagmail.onmicrosoft.com\\ncreatedDateTime: 9/13/2024 6:45:55 PM'),\n",
       " Document(metadata={'source': '/data/tmp/users.csv', 'row': 3}, page_content=': kuhnojka_gmail.com#EXT#@kuhnojkagmail.onmicrosoft.com\\ndisplayName: Jani Kuhno\\nsurname: Kuhno\\ngivenName: Jani\\nid: b1710b35-fa76-4b4c-bc78-5de00f04df4b\\nuserType: Member\\njobTitle: \\ndepartment: \\naccountEnabled: True\\nusageLocation: FI\\nstreetAddress: \\nstate: \\ncountry: \\ncity: \\npostalCode: \\nalternateEmailAddress: kuhnojka@gmail.com\\nidentityIssuer: Multiple\\ncreatedDateTime: 9/12/2024 7:37:04 PM'),\n",
       " Document(metadata={'source': '/data/tmp/users.csv', 'row': 4}, page_content=': emilia@kuhnojkagmail.onmicrosoft.com\\ndisplayName: Emilia Hartikainen\\nsurname: Hartikainen\\ngivenName: Emilia\\nid: df0952c0-792f-4c1c-a691-4f038392f92d\\nuserType: Member\\njobTitle: Senior Data Analyst\\ndepartment: Business Intelligence\\naccountEnabled: True\\nusageLocation: FI\\nstreetAddress: \\nstate: \\ncountry: FI\\ncity: Helsinki\\npostalCode: \\nalternateEmailAddress: \\nidentityIssuer: kuhnojkagmail.onmicrosoft.com\\ncreatedDateTime: 9/20/2024 6:53:03 PM'),\n",
       " Document(metadata={'source': '/data/tmp/users.csv', 'row': 5}, page_content=': lauri@kuhnojkagmail.onmicrosoft.com\\ndisplayName: Lauri Virtanen\\nsurname: Virtanen\\ngivenName: Lauri\\nid: e3886844-1aa5-4f22-b0d5-dd4441cbf89f\\nuserType: Member\\njobTitle: IT Support Specialist\\ndepartment: Information Technology\\naccountEnabled: True\\nusageLocation: FI\\nstreetAddress: \\nstate: \\ncountry: FI\\ncity: Espoo\\npostalCode: \\nalternateEmailAddress: \\nidentityIssuer: kuhnojkagmail.onmicrosoft.com\\ncreatedDateTime: 9/20/2024 6:53:03 PM')]"
      ]
     },
     "execution_count": 93,
     "metadata": {},
     "output_type": "execute_result"
    }
   ],
   "source": [
    "dum"
   ]
  },
  {
   "cell_type": "code",
   "execution_count": 126,
   "id": "f3c876b4-48d5-4e68-8b48-234654b64854",
   "metadata": {},
   "outputs": [],
   "source": [
    "l = []\n",
    "x = []\n",
    "for i in dum:\n",
    "    l.append(i.metadata)\n",
    "    x.append(i.page_content)\n"
   ]
  },
  {
   "cell_type": "code",
   "execution_count": 128,
   "id": "49d499bb-c6a4-4dec-a0a9-2d02ff7d83c2",
   "metadata": {},
   "outputs": [
    {
     "data": {
      "text/plain": [
       "[': joel@kuhnojkagmail.onmicrosoft.com\\ndisplayName: Joel Kataja\\nsurname: \\ngivenName: \\nid: 2cb0f342-2959-4e5e-a8d1-d3e7d52773ed\\nuserType: Member\\njobTitle: \\ndepartment: \\naccountEnabled: True\\nusageLocation: FI\\nstreetAddress: \\nstate: \\ncountry: FI\\ncity: \\npostalCode: \\nalternateEmailAddress: \\nidentityIssuer: kuhnojkagmail.onmicrosoft.com\\ncreatedDateTime: 9/12/2024 8:17:21 PM',\n",
       " ': amelie@kuhnojkagmail.onmicrosoft.com\\ndisplayName: Amélie Dupont (EXTERNAL CONSULTANT)\\nsurname: Dupont\\ngivenName: Amélie\\nid: 609183da-b0a8-4e4a-a70e-636018747d08\\nuserType: Member\\njobTitle: Marketing Coordinator\\ndepartment: Digital Marketing\\naccountEnabled: True\\nusageLocation: FR\\nstreetAddress: \\nstate: \\ncountry: FR\\ncity: Paris\\npostalCode: \\nalternateEmailAddress: \\nidentityIssuer: kuhnojkagmail.onmicrosoft.com\\ncreatedDateTime: 9/20/2024 6:53:03 PM',\n",
       " ': bill@kuhnojkagmail.onmicrosoft.com\\ndisplayName: Bill Hader\\nsurname: Hader\\ngivenName: Bill\\nid: 8f34629e-9d63-4a45-b63e-14e95b2d6a76\\nuserType: Member\\njobTitle: \\ndepartment: \\naccountEnabled: True\\nusageLocation: \\nstreetAddress: 40 W Main St\\nstate: New York\\ncountry: USA\\ncity: Port Jervis\\npostalCode: 12771.0\\nalternateEmailAddress: \\nidentityIssuer: kuhnojkagmail.onmicrosoft.com\\ncreatedDateTime: 9/13/2024 6:45:55 PM',\n",
       " ': kuhnojka_gmail.com#EXT#@kuhnojkagmail.onmicrosoft.com\\ndisplayName: Jani Kuhno\\nsurname: Kuhno\\ngivenName: Jani\\nid: b1710b35-fa76-4b4c-bc78-5de00f04df4b\\nuserType: Member\\njobTitle: \\ndepartment: \\naccountEnabled: True\\nusageLocation: FI\\nstreetAddress: \\nstate: \\ncountry: \\ncity: \\npostalCode: \\nalternateEmailAddress: kuhnojka@gmail.com\\nidentityIssuer: Multiple\\ncreatedDateTime: 9/12/2024 7:37:04 PM',\n",
       " ': emilia@kuhnojkagmail.onmicrosoft.com\\ndisplayName: Emilia Hartikainen\\nsurname: Hartikainen\\ngivenName: Emilia\\nid: df0952c0-792f-4c1c-a691-4f038392f92d\\nuserType: Member\\njobTitle: Senior Data Analyst\\ndepartment: Business Intelligence\\naccountEnabled: True\\nusageLocation: FI\\nstreetAddress: \\nstate: \\ncountry: FI\\ncity: Helsinki\\npostalCode: \\nalternateEmailAddress: \\nidentityIssuer: kuhnojkagmail.onmicrosoft.com\\ncreatedDateTime: 9/20/2024 6:53:03 PM',\n",
       " ': lauri@kuhnojkagmail.onmicrosoft.com\\ndisplayName: Lauri Virtanen\\nsurname: Virtanen\\ngivenName: Lauri\\nid: e3886844-1aa5-4f22-b0d5-dd4441cbf89f\\nuserType: Member\\njobTitle: IT Support Specialist\\ndepartment: Information Technology\\naccountEnabled: True\\nusageLocation: FI\\nstreetAddress: \\nstate: \\ncountry: FI\\ncity: Espoo\\npostalCode: \\nalternateEmailAddress: \\nidentityIssuer: kuhnojkagmail.onmicrosoft.com\\ncreatedDateTime: 9/20/2024 6:53:03 PM']"
      ]
     },
     "execution_count": 128,
     "metadata": {},
     "output_type": "execute_result"
    }
   ],
   "source": [
    "x"
   ]
  },
  {
   "cell_type": "code",
   "execution_count": 3,
   "id": "dbc3ba99-7739-4015-85ab-3f070b4bf2d6",
   "metadata": {},
   "outputs": [],
   "source": [
    "from azure.identity import DefaultAzureCredential\n",
    "from azure.monitor.query import LogsQueryClient\n",
    "from datetime import timedelta\n",
    "import pandas as pd\n",
    "\n",
    "\n",
    "KQL_QUERY = \"\"\"\n",
    "SecurityAlert\n",
    "| extend props = parse_json(ExtendedProperties)\n",
    "| extend Location = tostring(props['Custom Details'])\n",
    "| extend Parse = parse_json(Entities)\n",
    "| extend DisplayName = tostring(Parse.[0].Name)\n",
    "| extend IpAddress = tostring(Parse.[1].Address)\n",
    "| project TimeGenerated, AlertName, AlertSeverity, Description, DisplayName, IpAddress, Location\n",
    "\"\"\"\n",
    "\n",
    "\n",
    "def get_response(id):\n",
    "    credential = DefaultAzureCredential()\n",
    "    client = LogsQueryClient(credential)\n",
    "    \n",
    "    response = client.query_workspace(\n",
    "        workspace_id=id,\n",
    "        query=KQL_QUERY,\n",
    "        timespan=timedelta(days=4)\n",
    "    )\n",
    "    return response"
   ]
  },
  {
   "cell_type": "code",
   "execution_count": 4,
   "id": "0269e92d-13c5-48a2-9aba-c44302d101ae",
   "metadata": {},
   "outputs": [],
   "source": [
    "x = get_response(\"1bffa9d3-05ed-4784-8a15-2dc8d257b039\")"
   ]
  },
  {
   "cell_type": "code",
   "execution_count": 32,
   "id": "66cfb606-7167-4e2d-b8fe-4840931caaee",
   "metadata": {},
   "outputs": [],
   "source": [
    "def kql_response_as_csv(responses):\n",
    "    df_list = []\n",
    "    for i in responses:\n",
    "        df_list.append(response_as_df(i))\n",
    "    df_list = [j for i in df_list for j in i]\n",
    "    paths_list = []\n",
    "    for idx, item in enumerate(df_list):\n",
    "        item.to_csv(f'/data/tmp/azure_{idx}')\n",
    "        paths_list.append(f'/data/tmp/azure_{idx}')\n",
    "    return paths_list"
   ]
  },
  {
   "cell_type": "code",
   "execution_count": 6,
   "id": "53e8772e-85d9-41f9-ba68-244c8000b6be",
   "metadata": {},
   "outputs": [],
   "source": [
    "def response_as_df(response):\n",
    "    data_list = []\n",
    "    for table in response.tables:\n",
    "        # Extract columns and rows from the response\n",
    "        columns = [col for col in table.columns]\n",
    "        rows = table.rows\n",
    "            \n",
    "        # Convert to pandas DataFrame\n",
    "        df = pd.DataFrame(rows, columns=columns)\n",
    "        data_list.append(df)\n",
    "\n",
    "    return data_list"
   ]
  },
  {
   "cell_type": "code",
   "execution_count": 13,
   "id": "a2b93b92-424a-466c-9a2b-3d1e95cb2d8c",
   "metadata": {},
   "outputs": [
    {
     "data": {
      "text/plain": [
       "list"
      ]
     },
     "execution_count": 13,
     "metadata": {},
     "output_type": "execute_result"
    }
   ],
   "source": [
    "type(response_as_df(x))"
   ]
  },
  {
   "cell_type": "code",
   "execution_count": 21,
   "id": "430c875d-ef75-4c93-806e-b82d5a89bd88",
   "metadata": {},
   "outputs": [],
   "source": [
    "y = [x, x]\n"
   ]
  },
  {
   "cell_type": "code",
   "execution_count": 35,
   "id": "a5f0d33a-ae24-47d8-8e8f-3a81bc24719d",
   "metadata": {},
   "outputs": [],
   "source": [
    "z = kql_response_as_csv(y)"
   ]
  },
  {
   "cell_type": "code",
   "execution_count": 39,
   "id": "8ce53c28-9820-482e-955b-2cc3606a732f",
   "metadata": {},
   "outputs": [
    {
     "data": {
      "text/plain": [
       "['/data/tmp/azure_0', '/data/tmp/azure_1']"
      ]
     },
     "execution_count": 39,
     "metadata": {},
     "output_type": "execute_result"
    }
   ],
   "source": []
  }
 ],
 "metadata": {
  "kernelspec": {
   "display_name": "Python 3 (ipykernel)",
   "language": "python",
   "name": "python3"
  },
  "language_info": {
   "codemirror_mode": {
    "name": "ipython",
    "version": 3
   },
   "file_extension": ".py",
   "mimetype": "text/x-python",
   "name": "python",
   "nbconvert_exporter": "python",
   "pygments_lexer": "ipython3",
   "version": "3.10.12"
  }
 },
 "nbformat": 4,
 "nbformat_minor": 5
}
