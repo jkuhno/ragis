{
 "cells": [
  {
   "cell_type": "code",
   "execution_count": 1,
   "id": "d5ce3800-40db-4e63-a6cf-39ec25fa8b34",
   "metadata": {},
   "outputs": [],
   "source": [
    "import pandas as pd\n",
    "from langchain_community.document_loaders import CSVLoader\n",
    "\n",
    "from langchain.text_splitter import RecursiveCharacterTextSplitter"
   ]
  },
  {
   "cell_type": "code",
   "execution_count": 2,
   "id": "2bb3e170-d392-4df8-8914-ae48aeb3ca94",
   "metadata": {},
   "outputs": [],
   "source": [
    "from langchain_community.vectorstores import Chroma\n",
    "from langchain_nvidia_ai_endpoints import NVIDIAEmbeddings\n",
    "from langchain.prompts import PromptTemplate\n",
    "from langchain_nvidia_ai_endpoints import ChatNVIDIA\n",
    "from langchain_core.output_parsers import JsonOutputParser\n",
    "from langchain_core.output_parsers import StrOutputParser"
   ]
  },
  {
   "cell_type": "code",
   "execution_count": 4,
   "id": "fa402a10-f9ba-4c9a-bb8f-9d547c47880a",
   "metadata": {},
   "outputs": [],
   "source": [
    "bill_ca = CSVLoader(file_path='/data/scratch/sample_input/LoginOutsideFinland_Bill_CA.csv').load()[0]\n",
    "bill_us = CSVLoader(file_path='/data/scratch/sample_input/LoginOutsideFinland_Bill_US.csv').load()[0]\n",
    "joel_ca = CSVLoader(file_path='/data/scratch/sample_input/LoginOutsideFinland_Joel.csv').load()[0]"
   ]
  },
  {
   "cell_type": "code",
   "execution_count": 11,
   "id": "86b8fa40-d76c-4257-9b2e-19b3538be1cb",
   "metadata": {},
   "outputs": [
    {
     "ename": "NameError",
     "evalue": "name 'rags' is not defined",
     "output_type": "error",
     "traceback": [
      "\u001b[0;31m---------------------------------------------------------------------------\u001b[0m",
      "\u001b[0;31mNameError\u001b[0m                                 Traceback (most recent call last)",
      "Cell \u001b[0;32mIn[11], line 7\u001b[0m\n\u001b[1;32m      3\u001b[0m \u001b[38;5;28;01mdef\u001b[39;00m \u001b[38;5;21mgreet\u001b[39m(name, intensity):\n\u001b[1;32m      4\u001b[0m     \u001b[38;5;28;01mreturn\u001b[39;00m \u001b[38;5;124m\"\u001b[39m\u001b[38;5;124mHi, \u001b[39m\u001b[38;5;124m\"\u001b[39m \u001b[38;5;241m+\u001b[39m name \u001b[38;5;241m+\u001b[39m \u001b[38;5;124m\"\u001b[39m\u001b[38;5;124m!\u001b[39m\u001b[38;5;124m\"\u001b[39m \u001b[38;5;241m*\u001b[39m \u001b[38;5;28mint\u001b[39m(intensity)\n\u001b[1;32m      6\u001b[0m demo \u001b[38;5;241m=\u001b[39m gr\u001b[38;5;241m.\u001b[39mInterface(\n\u001b[0;32m----> 7\u001b[0m     fn\u001b[38;5;241m=\u001b[39m\u001b[43mrags\u001b[49m\u001b[38;5;241m.\u001b[39mtest,\n\u001b[1;32m      8\u001b[0m     inputs\u001b[38;5;241m=\u001b[39m[\u001b[38;5;124m\"\u001b[39m\u001b[38;5;124mtext\u001b[39m\u001b[38;5;124m\"\u001b[39m, \u001b[38;5;124m\"\u001b[39m\u001b[38;5;124mslider\u001b[39m\u001b[38;5;124m\"\u001b[39m],\n\u001b[1;32m      9\u001b[0m     outputs\u001b[38;5;241m=\u001b[39m[\u001b[38;5;124m\"\u001b[39m\u001b[38;5;124mtext\u001b[39m\u001b[38;5;124m\"\u001b[39m],\n\u001b[1;32m     10\u001b[0m )\n\u001b[1;32m     12\u001b[0m proxy_prefix \u001b[38;5;241m=\u001b[39m os\u001b[38;5;241m.\u001b[39menviron\u001b[38;5;241m.\u001b[39mget(\u001b[38;5;124m\"\u001b[39m\u001b[38;5;124mPROXY_PREFIX\u001b[39m\u001b[38;5;124m\"\u001b[39m)\n\u001b[1;32m     13\u001b[0m demo\u001b[38;5;241m.\u001b[39mlaunch(server_name\u001b[38;5;241m=\u001b[39m\u001b[38;5;124m\"\u001b[39m\u001b[38;5;124m0.0.0.0\u001b[39m\u001b[38;5;124m\"\u001b[39m, server_port\u001b[38;5;241m=\u001b[39m\u001b[38;5;241m8080\u001b[39m, root_path\u001b[38;5;241m=\u001b[39mproxy_prefix)\n",
      "\u001b[0;31mNameError\u001b[0m: name 'rags' is not defined"
     ]
    }
   ],
   "source": [
    "import gradio as gr\n",
    "import os\n",
    "def greet(name, intensity):\n",
    "    return \"Hi, \" + name + \"!\" * int(intensity)\n",
    "\n",
    "demo = gr.Interface(\n",
    "    fn=rag.test,\n",
    "    inputs=[\"text\", \"slider\"],\n",
    "    outputs=[\"text\"],\n",
    ")\n",
    "\n",
    "proxy_prefix = os.environ.get(\"PROXY_PREFIX\")\n",
    "demo.launch(server_name=\"0.0.0.0\", server_port=8080, root_path=proxy_prefix)"
   ]
  },
  {
   "cell_type": "code",
   "execution_count": 9,
   "id": "f49d8e78-5958-4982-b868-a09695457b53",
   "metadata": {},
   "outputs": [],
   "source": [
    "import rag_module as rag"
   ]
  },
  {
   "cell_type": "code",
   "execution_count": 8,
   "id": "531e4cdb-27b3-45b0-921e-2f51b481942e",
   "metadata": {},
   "outputs": [
    {
     "name": "stdout",
     "output_type": "stream",
     "text": [
      "page_content='﻿\"TimeGenerated [Local Time]\": 9/13/2024, 11:02:10.113 PM\n",
      "AlertName: User logged in outside of Finland\n",
      "AlertSeverity: Medium\n",
      "Description: The user has logged in outside of Finland, which is not allowed.\n",
      "DisplayName: Bill Hader\n",
      "IpAddress: 2607:f0d0:3601:3b::7\n",
      "Location: CA' metadata={'source': '/data/scratch/sample_input/LoginOutsideFinland_Bill_CA.csv', 'row': 0}\n"
     ]
    }
   ],
   "source": [
    "print(rag_module.bill_ca)"
   ]
  },
  {
   "cell_type": "code",
   "execution_count": 37,
   "id": "5040850a-8d0f-4db1-bd64-0d54b4a78c8a",
   "metadata": {},
   "outputs": [],
   "source": [
    "users = pd.read_csv('/data/scratch/exportUsers_2024-9-13.csv', index_col=[0])\n",
    "users = users.dropna(axis=1, how=\"all\")\n",
    "#users = users.to_csv('/data/scratch/exportUsers_2024-9-13.csv')\n"
   ]
  },
  {
   "cell_type": "code",
   "execution_count": 39,
   "id": "8a075f58-337d-4760-aa27-965e287ebb99",
   "metadata": {},
   "outputs": [],
   "source": [
    "users = users.to_csv('/data/scratch/exportUsers_2024-9-13.csv')"
   ]
  },
  {
   "cell_type": "code",
   "execution_count": 28,
   "id": "b1c494dd-1134-4718-b88f-5742ba6e934d",
   "metadata": {},
   "outputs": [],
   "source": [
    "users.drop(columns=['Unnamed: 0.13', 'Unnamed: 0.12', 'Unnamed: 0.11', 'Unnamed: 0.10',\n",
    "       'Unnamed: 0.9', 'Unnamed: 0.8', 'Unnamed: 0.7', 'Unnamed: 0.6',\n",
    "       'Unnamed: 0.5', 'Unnamed: 0.4', 'Unnamed: 0.3', 'Unnamed: 0.2',\n",
    "       'Unnamed: 0.1', 'Unnamed: 0'], inplace=True)"
   ]
  },
  {
   "cell_type": "code",
   "execution_count": 38,
   "id": "13577333-aef0-4afe-96fc-e6aad98c8467",
   "metadata": {},
   "outputs": [
    {
     "data": {
      "text/html": [
       "<div>\n",
       "<style scoped>\n",
       "    .dataframe tbody tr th:only-of-type {\n",
       "        vertical-align: middle;\n",
       "    }\n",
       "\n",
       "    .dataframe tbody tr th {\n",
       "        vertical-align: top;\n",
       "    }\n",
       "\n",
       "    .dataframe thead th {\n",
       "        text-align: right;\n",
       "    }\n",
       "</style>\n",
       "<table border=\"1\" class=\"dataframe\">\n",
       "  <thead>\n",
       "    <tr style=\"text-align: right;\">\n",
       "      <th></th>\n",
       "      <th>userPrincipalName</th>\n",
       "      <th>displayName</th>\n",
       "      <th>surname</th>\n",
       "      <th>givenName</th>\n",
       "      <th>id</th>\n",
       "      <th>userType</th>\n",
       "      <th>accountEnabled</th>\n",
       "      <th>usageLocation</th>\n",
       "      <th>streetAddress</th>\n",
       "      <th>state</th>\n",
       "      <th>country</th>\n",
       "      <th>city</th>\n",
       "      <th>postalCode</th>\n",
       "      <th>alternateEmailAddress</th>\n",
       "      <th>identityIssuer</th>\n",
       "      <th>createdDateTime</th>\n",
       "    </tr>\n",
       "  </thead>\n",
       "  <tbody>\n",
       "    <tr>\n",
       "      <th>0</th>\n",
       "      <td>joel@kuhnojkagmail.onmicrosoft.com</td>\n",
       "      <td>Joel Kataja</td>\n",
       "      <td>NaN</td>\n",
       "      <td>NaN</td>\n",
       "      <td>2cb0f342-2959-4e5e-a8d1-d3e7d52773ed</td>\n",
       "      <td>Member</td>\n",
       "      <td>True</td>\n",
       "      <td>FI</td>\n",
       "      <td>NaN</td>\n",
       "      <td>NaN</td>\n",
       "      <td>FI</td>\n",
       "      <td>NaN</td>\n",
       "      <td>NaN</td>\n",
       "      <td>NaN</td>\n",
       "      <td>kuhnojkagmail.onmicrosoft.com</td>\n",
       "      <td>9/12/2024 8:17:21 PM</td>\n",
       "    </tr>\n",
       "    <tr>\n",
       "      <th>1</th>\n",
       "      <td>bill@kuhnojkagmail.onmicrosoft.com</td>\n",
       "      <td>Bill Hader</td>\n",
       "      <td>Hader</td>\n",
       "      <td>Bill</td>\n",
       "      <td>8f34629e-9d63-4a45-b63e-14e95b2d6a76</td>\n",
       "      <td>Member</td>\n",
       "      <td>True</td>\n",
       "      <td>NaN</td>\n",
       "      <td>40 W Main St</td>\n",
       "      <td>New York</td>\n",
       "      <td>USA</td>\n",
       "      <td>Port Jervis</td>\n",
       "      <td>12771.0</td>\n",
       "      <td>NaN</td>\n",
       "      <td>kuhnojkagmail.onmicrosoft.com</td>\n",
       "      <td>9/13/2024 6:45:55 PM</td>\n",
       "    </tr>\n",
       "    <tr>\n",
       "      <th>2</th>\n",
       "      <td>kuhnojka_gmail.com#EXT#@kuhnojkagmail.onmicros...</td>\n",
       "      <td>Jani Kuhno</td>\n",
       "      <td>Kuhno</td>\n",
       "      <td>Jani</td>\n",
       "      <td>b1710b35-fa76-4b4c-bc78-5de00f04df4b</td>\n",
       "      <td>Member</td>\n",
       "      <td>True</td>\n",
       "      <td>FI</td>\n",
       "      <td>NaN</td>\n",
       "      <td>NaN</td>\n",
       "      <td>NaN</td>\n",
       "      <td>NaN</td>\n",
       "      <td>NaN</td>\n",
       "      <td>kuhnojka@gmail.com</td>\n",
       "      <td>Multiple</td>\n",
       "      <td>9/12/2024 7:37:04 PM</td>\n",
       "    </tr>\n",
       "  </tbody>\n",
       "</table>\n",
       "</div>"
      ],
      "text/plain": [
       "                                   userPrincipalName  displayName surname  \\\n",
       "0                 joel@kuhnojkagmail.onmicrosoft.com  Joel Kataja     NaN   \n",
       "1                 bill@kuhnojkagmail.onmicrosoft.com   Bill Hader   Hader   \n",
       "2  kuhnojka_gmail.com#EXT#@kuhnojkagmail.onmicros...   Jani Kuhno   Kuhno   \n",
       "\n",
       "  givenName                                    id userType  accountEnabled  \\\n",
       "0       NaN  2cb0f342-2959-4e5e-a8d1-d3e7d52773ed   Member            True   \n",
       "1      Bill  8f34629e-9d63-4a45-b63e-14e95b2d6a76   Member            True   \n",
       "2      Jani  b1710b35-fa76-4b4c-bc78-5de00f04df4b   Member            True   \n",
       "\n",
       "  usageLocation streetAddress     state country         city  postalCode  \\\n",
       "0            FI           NaN       NaN      FI          NaN         NaN   \n",
       "1           NaN  40 W Main St  New York     USA  Port Jervis     12771.0   \n",
       "2            FI           NaN       NaN     NaN          NaN         NaN   \n",
       "\n",
       "  alternateEmailAddress                 identityIssuer       createdDateTime  \n",
       "0                   NaN  kuhnojkagmail.onmicrosoft.com  9/12/2024 8:17:21 PM  \n",
       "1                   NaN  kuhnojkagmail.onmicrosoft.com  9/13/2024 6:45:55 PM  \n",
       "2    kuhnojka@gmail.com                       Multiple  9/12/2024 7:37:04 PM  "
      ]
     },
     "execution_count": 38,
     "metadata": {},
     "output_type": "execute_result"
    }
   ],
   "source": [
    "users.head()"
   ]
  },
  {
   "cell_type": "code",
   "execution_count": 40,
   "id": "d2c6ec91-4052-4506-b905-ff324217f401",
   "metadata": {},
   "outputs": [],
   "source": [
    "paths = {\n",
    "    \"sample_inputs_path\": \"/data/scratch/sample_input/\",\n",
    "    \"closed_incidents\": \"/data/scratch/Closed Incidents/Closed_Incidents_1.csv\",\n",
    "    \"user_info\": \"/data/scratch/exportUsers_2024-9-13.csv\"\n",
    "}\n",
    "\n",
    "sample_inputs = {\n",
    "    \"Bill_CA\": {\n",
    "        \"name\": \"Bill_CA\",\n",
    "        \"filename\": \"LoginOutsideFinland_Bill_CA.csv\"\n",
    "    },\n",
    "    \"Bill_US\": {\n",
    "        \"name\": \"Bill_US\",\n",
    "        \"filename\": \"LoginOutsideFinland_Bill_US.csv'\"\n",
    "    },\n",
    "    \"Joel_CA\": {\n",
    "        \"name\": \"Joel_CA\",\n",
    "        \"filename\": \"LoginOutsideFinland_Joel.csv.csv'\"\n",
    "    }\n",
    "}\n",
    "\n",
    "dummy_incident_list = [value.get(\"name\") for value in sample_inputs.values()]"
   ]
  },
  {
   "cell_type": "code",
   "execution_count": 42,
   "id": "86d5d2da-a33a-459b-859f-734598278484",
   "metadata": {},
   "outputs": [
    {
     "data": {
      "text/plain": [
       "['Bill_CA', 'Bill_US', 'Joel_CA']"
      ]
     },
     "execution_count": 42,
     "metadata": {},
     "output_type": "execute_result"
    }
   ],
   "source": [
    "dummy_incident_list"
   ]
  },
  {
   "cell_type": "code",
   "execution_count": 43,
   "id": "2a9f1d88-1dd0-404e-be81-b2fee2ff4780",
   "metadata": {},
   "outputs": [
    {
     "data": {
      "text/plain": [
       "'/data/scratch/sample_input/LoginOutsideFinland_Bill_CA.csv'"
      ]
     },
     "execution_count": 43,
     "metadata": {},
     "output_type": "execute_result"
    }
   ],
   "source": [
    "paths[\"sample_inputs_path\"] + sample_inputs[\"Bill_CA\"][\"filename\"]"
   ]
  },
  {
   "cell_type": "code",
   "execution_count": 44,
   "id": "44ed418c-da40-40d5-ab7f-14afea96f568",
   "metadata": {},
   "outputs": [],
   "source": [
    "def get_dummy_input(input_name):\n",
    "    # Check if the input exists in the dictionary\n",
    "    if input_name in sample_inputs:\n",
    "        # Get the corresponding filename\n",
    "        filename = sample_inputs[input_name][\"filename\"]\n",
    "        # Load the file using CSVLoader and return the result\n",
    "        return f'/data/scratch/sample_input/{filename}'\n",
    "    else:\n",
    "        raise ValueError(f\"Invalid input name: {input_name}\")"
   ]
  },
  {
   "cell_type": "code",
   "execution_count": 51,
   "id": "b8811f8e-96d9-4868-af68-4ab8890ad66f",
   "metadata": {},
   "outputs": [
    {
     "data": {
      "text/plain": [
       "\"/data/scratch/sample_input/LoginOutsideFinland_Bill_US.csv'\""
      ]
     },
     "execution_count": 51,
     "metadata": {},
     "output_type": "execute_result"
    }
   ],
   "source": [
    "filename = sample_inputs['Bill_US'][\"filename\"]\n",
    "f'{paths[\"sample_inputs_path\"]}{filename}'"
   ]
  }
 ],
 "metadata": {
  "kernelspec": {
   "display_name": "Python 3 (ipykernel)",
   "language": "python",
   "name": "python3"
  },
  "language_info": {
   "codemirror_mode": {
    "name": "ipython",
    "version": 3
   },
   "file_extension": ".py",
   "mimetype": "text/x-python",
   "name": "python",
   "nbconvert_exporter": "python",
   "pygments_lexer": "ipython3",
   "version": "3.10.12"
  }
 },
 "nbformat": 4,
 "nbformat_minor": 5
}
