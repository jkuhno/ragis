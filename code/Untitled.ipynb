{
 "cells": [
  {
   "cell_type": "code",
   "execution_count": 1,
   "id": "d5ce3800-40db-4e63-a6cf-39ec25fa8b34",
   "metadata": {},
   "outputs": [],
   "source": [
    "import pandas as pd\n",
    "from langchain_community.document_loaders import CSVLoader\n",
    "\n",
    "from langchain.text_splitter import RecursiveCharacterTextSplitter"
   ]
  },
  {
   "cell_type": "code",
   "execution_count": 2,
   "id": "2bb3e170-d392-4df8-8914-ae48aeb3ca94",
   "metadata": {},
   "outputs": [],
   "source": [
    "from langchain_community.vectorstores import Chroma\n",
    "from langchain_nvidia_ai_endpoints import NVIDIAEmbeddings\n",
    "from langchain.prompts import PromptTemplate\n",
    "from langchain_nvidia_ai_endpoints import ChatNVIDIA\n",
    "from langchain_core.output_parsers import JsonOutputParser\n",
    "from langchain_core.output_parsers import StrOutputParser"
   ]
  },
  {
   "cell_type": "code",
   "execution_count": 4,
   "id": "fa402a10-f9ba-4c9a-bb8f-9d547c47880a",
   "metadata": {},
   "outputs": [],
   "source": [
    "bill_ca = CSVLoader(file_path='/data/scratch/sample_input/LoginOutsideFinland_Bill_CA.csv').load()[0]\n",
    "bill_us = CSVLoader(file_path='/data/scratch/sample_input/LoginOutsideFinland_Bill_US.csv').load()[0]\n",
    "joel_ca = CSVLoader(file_path='/data/scratch/sample_input/LoginOutsideFinland_Joel.csv').load()[0]"
   ]
  },
  {
   "cell_type": "code",
   "execution_count": 11,
   "id": "86b8fa40-d76c-4257-9b2e-19b3538be1cb",
   "metadata": {},
   "outputs": [
    {
     "ename": "NameError",
     "evalue": "name 'rags' is not defined",
     "output_type": "error",
     "traceback": [
      "\u001b[0;31m---------------------------------------------------------------------------\u001b[0m",
      "\u001b[0;31mNameError\u001b[0m                                 Traceback (most recent call last)",
      "Cell \u001b[0;32mIn[11], line 7\u001b[0m\n\u001b[1;32m      3\u001b[0m \u001b[38;5;28;01mdef\u001b[39;00m \u001b[38;5;21mgreet\u001b[39m(name, intensity):\n\u001b[1;32m      4\u001b[0m     \u001b[38;5;28;01mreturn\u001b[39;00m \u001b[38;5;124m\"\u001b[39m\u001b[38;5;124mHi, \u001b[39m\u001b[38;5;124m\"\u001b[39m \u001b[38;5;241m+\u001b[39m name \u001b[38;5;241m+\u001b[39m \u001b[38;5;124m\"\u001b[39m\u001b[38;5;124m!\u001b[39m\u001b[38;5;124m\"\u001b[39m \u001b[38;5;241m*\u001b[39m \u001b[38;5;28mint\u001b[39m(intensity)\n\u001b[1;32m      6\u001b[0m demo \u001b[38;5;241m=\u001b[39m gr\u001b[38;5;241m.\u001b[39mInterface(\n\u001b[0;32m----> 7\u001b[0m     fn\u001b[38;5;241m=\u001b[39m\u001b[43mrags\u001b[49m\u001b[38;5;241m.\u001b[39mtest,\n\u001b[1;32m      8\u001b[0m     inputs\u001b[38;5;241m=\u001b[39m[\u001b[38;5;124m\"\u001b[39m\u001b[38;5;124mtext\u001b[39m\u001b[38;5;124m\"\u001b[39m, \u001b[38;5;124m\"\u001b[39m\u001b[38;5;124mslider\u001b[39m\u001b[38;5;124m\"\u001b[39m],\n\u001b[1;32m      9\u001b[0m     outputs\u001b[38;5;241m=\u001b[39m[\u001b[38;5;124m\"\u001b[39m\u001b[38;5;124mtext\u001b[39m\u001b[38;5;124m\"\u001b[39m],\n\u001b[1;32m     10\u001b[0m )\n\u001b[1;32m     12\u001b[0m proxy_prefix \u001b[38;5;241m=\u001b[39m os\u001b[38;5;241m.\u001b[39menviron\u001b[38;5;241m.\u001b[39mget(\u001b[38;5;124m\"\u001b[39m\u001b[38;5;124mPROXY_PREFIX\u001b[39m\u001b[38;5;124m\"\u001b[39m)\n\u001b[1;32m     13\u001b[0m demo\u001b[38;5;241m.\u001b[39mlaunch(server_name\u001b[38;5;241m=\u001b[39m\u001b[38;5;124m\"\u001b[39m\u001b[38;5;124m0.0.0.0\u001b[39m\u001b[38;5;124m\"\u001b[39m, server_port\u001b[38;5;241m=\u001b[39m\u001b[38;5;241m8080\u001b[39m, root_path\u001b[38;5;241m=\u001b[39mproxy_prefix)\n",
      "\u001b[0;31mNameError\u001b[0m: name 'rags' is not defined"
     ]
    }
   ],
   "source": [
    "import gradio as gr\n",
    "import os\n",
    "def greet(name, intensity):\n",
    "    return \"Hi, \" + name + \"!\" * int(intensity)\n",
    "\n",
    "demo = gr.Interface(\n",
    "    fn=rag.test,\n",
    "    inputs=[\"text\", \"slider\"],\n",
    "    outputs=[\"text\"],\n",
    ")\n",
    "\n",
    "proxy_prefix = os.environ.get(\"PROXY_PREFIX\")\n",
    "demo.launch(server_name=\"0.0.0.0\", server_port=8080, root_path=proxy_prefix)"
   ]
  },
  {
   "cell_type": "code",
   "execution_count": 9,
   "id": "f49d8e78-5958-4982-b868-a09695457b53",
   "metadata": {},
   "outputs": [],
   "source": [
    "import rag_module as rag"
   ]
  },
  {
   "cell_type": "code",
   "execution_count": 8,
   "id": "531e4cdb-27b3-45b0-921e-2f51b481942e",
   "metadata": {},
   "outputs": [
    {
     "name": "stdout",
     "output_type": "stream",
     "text": [
      "page_content='﻿\"TimeGenerated [Local Time]\": 9/13/2024, 11:02:10.113 PM\n",
      "AlertName: User logged in outside of Finland\n",
      "AlertSeverity: Medium\n",
      "Description: The user has logged in outside of Finland, which is not allowed.\n",
      "DisplayName: Bill Hader\n",
      "IpAddress: 2607:f0d0:3601:3b::7\n",
      "Location: CA' metadata={'source': '/data/scratch/sample_input/LoginOutsideFinland_Bill_CA.csv', 'row': 0}\n"
     ]
    }
   ],
   "source": [
    "print(rag_module.bill_ca)"
   ]
  }
 ],
 "metadata": {
  "kernelspec": {
   "display_name": "Python 3 (ipykernel)",
   "language": "python",
   "name": "python3"
  },
  "language_info": {
   "codemirror_mode": {
    "name": "ipython",
    "version": 3
   },
   "file_extension": ".py",
   "mimetype": "text/x-python",
   "name": "python",
   "nbconvert_exporter": "python",
   "pygments_lexer": "ipython3",
   "version": "3.10.12"
  }
 },
 "nbformat": 4,
 "nbformat_minor": 5
}
